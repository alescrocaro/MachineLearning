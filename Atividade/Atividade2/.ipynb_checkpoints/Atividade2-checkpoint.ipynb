{
 "cells": [
  {
   "cell_type": "code",
   "execution_count": 329,
   "id": "82f46d06",
   "metadata": {},
   "outputs": [],
   "source": [
    "import pandas as pd\n",
    "import numpy as np \n",
    "\n",
    "from sklearn.preprocessing import OrdinalEncoder\n",
    "from sklearn.compose import ColumnTransformer\n",
    "from sklearn.preprocessing import StandardScaler\n",
    "from sklearn.model_selection import StratifiedKFold, train_test_split\n",
    "from utils import do_cv_knn\n",
    "\n",
    "from sklearn.neighbors import KNeighborsClassifier\n",
    "\n",
    "from sklearn.model_selection import GridSearchCV\n",
    "\n",
    "from sklearn.metrics import fbeta_score, make_scorer\n",
    "from sklearn.metrics import f1_score\n",
    "\n",
    "\n",
    "from sklearn.svm import SVC\n",
    "from tqdm.notebook import tqdm\n",
    "from scipy.stats import ttest_ind_from_stats"
   ]
  },
  {
   "cell_type": "markdown",
   "id": "316358d5",
   "metadata": {},
   "source": [
    "Primeiramente, utilizarei o pandas para carregar o dataset"
   ]
  },
  {
   "cell_type": "code",
   "execution_count": 330,
   "id": "a11e208d",
   "metadata": {
    "scrolled": true
   },
   "outputs": [
    {
     "data": {
      "text/html": [
       "<div>\n",
       "<style scoped>\n",
       "    .dataframe tbody tr th:only-of-type {\n",
       "        vertical-align: middle;\n",
       "    }\n",
       "\n",
       "    .dataframe tbody tr th {\n",
       "        vertical-align: top;\n",
       "    }\n",
       "\n",
       "    .dataframe thead th {\n",
       "        text-align: right;\n",
       "    }\n",
       "</style>\n",
       "<table border=\"1\" class=\"dataframe\">\n",
       "  <thead>\n",
       "    <tr style=\"text-align: right;\">\n",
       "      <th></th>\n",
       "      <th>class</th>\n",
       "      <th>cap-shape</th>\n",
       "      <th>cap-surface</th>\n",
       "      <th>cap-color</th>\n",
       "      <th>bruises</th>\n",
       "      <th>odor</th>\n",
       "      <th>gill-attachment</th>\n",
       "      <th>gill-spacing</th>\n",
       "      <th>gill-size</th>\n",
       "      <th>gill-color</th>\n",
       "      <th>...</th>\n",
       "      <th>stalk-surface-below-ring</th>\n",
       "      <th>stalk-color-above-ring</th>\n",
       "      <th>stalk-color-below-ring</th>\n",
       "      <th>veil-type</th>\n",
       "      <th>veil-color</th>\n",
       "      <th>ring-number</th>\n",
       "      <th>ring-type</th>\n",
       "      <th>spore-print-color</th>\n",
       "      <th>population</th>\n",
       "      <th>habitat</th>\n",
       "    </tr>\n",
       "  </thead>\n",
       "  <tbody>\n",
       "    <tr>\n",
       "      <th>0</th>\n",
       "      <td>e</td>\n",
       "      <td>x</td>\n",
       "      <td>s</td>\n",
       "      <td>y</td>\n",
       "      <td>t</td>\n",
       "      <td>a</td>\n",
       "      <td>f</td>\n",
       "      <td>w</td>\n",
       "      <td>b</td>\n",
       "      <td>g</td>\n",
       "      <td>...</td>\n",
       "      <td>s</td>\n",
       "      <td>w</td>\n",
       "      <td>w</td>\n",
       "      <td>p</td>\n",
       "      <td>w</td>\n",
       "      <td>o</td>\n",
       "      <td>p</td>\n",
       "      <td>n</td>\n",
       "      <td>v</td>\n",
       "      <td>d</td>\n",
       "    </tr>\n",
       "    <tr>\n",
       "      <th>1</th>\n",
       "      <td>e</td>\n",
       "      <td>f</td>\n",
       "      <td>s</td>\n",
       "      <td>y</td>\n",
       "      <td>f</td>\n",
       "      <td>n</td>\n",
       "      <td>f</td>\n",
       "      <td>c</td>\n",
       "      <td>b</td>\n",
       "      <td>p</td>\n",
       "      <td>...</td>\n",
       "      <td>s</td>\n",
       "      <td>w</td>\n",
       "      <td>w</td>\n",
       "      <td>p</td>\n",
       "      <td>w</td>\n",
       "      <td>o</td>\n",
       "      <td>f</td>\n",
       "      <td>n</td>\n",
       "      <td>y</td>\n",
       "      <td>g</td>\n",
       "    </tr>\n",
       "    <tr>\n",
       "      <th>2</th>\n",
       "      <td>e</td>\n",
       "      <td>k</td>\n",
       "      <td>s</td>\n",
       "      <td>w</td>\n",
       "      <td>f</td>\n",
       "      <td>c</td>\n",
       "      <td>f</td>\n",
       "      <td>w</td>\n",
       "      <td>b</td>\n",
       "      <td>g</td>\n",
       "      <td>...</td>\n",
       "      <td>s</td>\n",
       "      <td>w</td>\n",
       "      <td>n</td>\n",
       "      <td>p</td>\n",
       "      <td>w</td>\n",
       "      <td>t</td>\n",
       "      <td>e</td>\n",
       "      <td>w</td>\n",
       "      <td>n</td>\n",
       "      <td>g</td>\n",
       "    </tr>\n",
       "    <tr>\n",
       "      <th>3</th>\n",
       "      <td>e</td>\n",
       "      <td>f</td>\n",
       "      <td>f</td>\n",
       "      <td>n</td>\n",
       "      <td>t</td>\n",
       "      <td>n</td>\n",
       "      <td>f</td>\n",
       "      <td>c</td>\n",
       "      <td>b</td>\n",
       "      <td>w</td>\n",
       "      <td>...</td>\n",
       "      <td>s</td>\n",
       "      <td>g</td>\n",
       "      <td>w</td>\n",
       "      <td>p</td>\n",
       "      <td>w</td>\n",
       "      <td>o</td>\n",
       "      <td>p</td>\n",
       "      <td>k</td>\n",
       "      <td>v</td>\n",
       "      <td>d</td>\n",
       "    </tr>\n",
       "    <tr>\n",
       "      <th>4</th>\n",
       "      <td>p</td>\n",
       "      <td>x</td>\n",
       "      <td>s</td>\n",
       "      <td>w</td>\n",
       "      <td>t</td>\n",
       "      <td>p</td>\n",
       "      <td>f</td>\n",
       "      <td>c</td>\n",
       "      <td>n</td>\n",
       "      <td>w</td>\n",
       "      <td>...</td>\n",
       "      <td>s</td>\n",
       "      <td>w</td>\n",
       "      <td>w</td>\n",
       "      <td>p</td>\n",
       "      <td>w</td>\n",
       "      <td>o</td>\n",
       "      <td>p</td>\n",
       "      <td>n</td>\n",
       "      <td>s</td>\n",
       "      <td>u</td>\n",
       "    </tr>\n",
       "    <tr>\n",
       "      <th>...</th>\n",
       "      <td>...</td>\n",
       "      <td>...</td>\n",
       "      <td>...</td>\n",
       "      <td>...</td>\n",
       "      <td>...</td>\n",
       "      <td>...</td>\n",
       "      <td>...</td>\n",
       "      <td>...</td>\n",
       "      <td>...</td>\n",
       "      <td>...</td>\n",
       "      <td>...</td>\n",
       "      <td>...</td>\n",
       "      <td>...</td>\n",
       "      <td>...</td>\n",
       "      <td>...</td>\n",
       "      <td>...</td>\n",
       "      <td>...</td>\n",
       "      <td>...</td>\n",
       "      <td>...</td>\n",
       "      <td>...</td>\n",
       "      <td>...</td>\n",
       "    </tr>\n",
       "    <tr>\n",
       "      <th>995</th>\n",
       "      <td>p</td>\n",
       "      <td>x</td>\n",
       "      <td>f</td>\n",
       "      <td>p</td>\n",
       "      <td>f</td>\n",
       "      <td>c</td>\n",
       "      <td>f</td>\n",
       "      <td>w</td>\n",
       "      <td>n</td>\n",
       "      <td>n</td>\n",
       "      <td>...</td>\n",
       "      <td>s</td>\n",
       "      <td>w</td>\n",
       "      <td>w</td>\n",
       "      <td>p</td>\n",
       "      <td>w</td>\n",
       "      <td>o</td>\n",
       "      <td>p</td>\n",
       "      <td>n</td>\n",
       "      <td>v</td>\n",
       "      <td>d</td>\n",
       "    </tr>\n",
       "    <tr>\n",
       "      <th>996</th>\n",
       "      <td>p</td>\n",
       "      <td>x</td>\n",
       "      <td>y</td>\n",
       "      <td>n</td>\n",
       "      <td>f</td>\n",
       "      <td>n</td>\n",
       "      <td>f</td>\n",
       "      <td>c</td>\n",
       "      <td>n</td>\n",
       "      <td>w</td>\n",
       "      <td>...</td>\n",
       "      <td>y</td>\n",
       "      <td>w</td>\n",
       "      <td>y</td>\n",
       "      <td>p</td>\n",
       "      <td>w</td>\n",
       "      <td>o</td>\n",
       "      <td>e</td>\n",
       "      <td>w</td>\n",
       "      <td>v</td>\n",
       "      <td>d</td>\n",
       "    </tr>\n",
       "    <tr>\n",
       "      <th>997</th>\n",
       "      <td>e</td>\n",
       "      <td>x</td>\n",
       "      <td>f</td>\n",
       "      <td>g</td>\n",
       "      <td>f</td>\n",
       "      <td>n</td>\n",
       "      <td>f</td>\n",
       "      <td>c</td>\n",
       "      <td>b</td>\n",
       "      <td>u</td>\n",
       "      <td>...</td>\n",
       "      <td>s</td>\n",
       "      <td>g</td>\n",
       "      <td>g</td>\n",
       "      <td>p</td>\n",
       "      <td>w</td>\n",
       "      <td>o</td>\n",
       "      <td>e</td>\n",
       "      <td>k</td>\n",
       "      <td>y</td>\n",
       "      <td>d</td>\n",
       "    </tr>\n",
       "    <tr>\n",
       "      <th>998</th>\n",
       "      <td>e</td>\n",
       "      <td>b</td>\n",
       "      <td>s</td>\n",
       "      <td>w</td>\n",
       "      <td>t</td>\n",
       "      <td>a</td>\n",
       "      <td>f</td>\n",
       "      <td>c</td>\n",
       "      <td>b</td>\n",
       "      <td>b</td>\n",
       "      <td>...</td>\n",
       "      <td>s</td>\n",
       "      <td>g</td>\n",
       "      <td>w</td>\n",
       "      <td>p</td>\n",
       "      <td>w</td>\n",
       "      <td>o</td>\n",
       "      <td>p</td>\n",
       "      <td>h</td>\n",
       "      <td>y</td>\n",
       "      <td>p</td>\n",
       "    </tr>\n",
       "    <tr>\n",
       "      <th>999</th>\n",
       "      <td>p</td>\n",
       "      <td>x</td>\n",
       "      <td>s</td>\n",
       "      <td>n</td>\n",
       "      <td>f</td>\n",
       "      <td>f</td>\n",
       "      <td>f</td>\n",
       "      <td>c</td>\n",
       "      <td>n</td>\n",
       "      <td>n</td>\n",
       "      <td>...</td>\n",
       "      <td>s</td>\n",
       "      <td>w</td>\n",
       "      <td>p</td>\n",
       "      <td>p</td>\n",
       "      <td>w</td>\n",
       "      <td>o</td>\n",
       "      <td>e</td>\n",
       "      <td>k</td>\n",
       "      <td>v</td>\n",
       "      <td>l</td>\n",
       "    </tr>\n",
       "  </tbody>\n",
       "</table>\n",
       "<p>1000 rows × 23 columns</p>\n",
       "</div>"
      ],
      "text/plain": [
       "    class cap-shape cap-surface cap-color bruises odor gill-attachment  \\\n",
       "0       e         x           s         y       t    a               f   \n",
       "1       e         f           s         y       f    n               f   \n",
       "2       e         k           s         w       f    c               f   \n",
       "3       e         f           f         n       t    n               f   \n",
       "4       p         x           s         w       t    p               f   \n",
       "..    ...       ...         ...       ...     ...  ...             ...   \n",
       "995     p         x           f         p       f    c               f   \n",
       "996     p         x           y         n       f    n               f   \n",
       "997     e         x           f         g       f    n               f   \n",
       "998     e         b           s         w       t    a               f   \n",
       "999     p         x           s         n       f    f               f   \n",
       "\n",
       "    gill-spacing gill-size gill-color  ... stalk-surface-below-ring  \\\n",
       "0              w         b          g  ...                        s   \n",
       "1              c         b          p  ...                        s   \n",
       "2              w         b          g  ...                        s   \n",
       "3              c         b          w  ...                        s   \n",
       "4              c         n          w  ...                        s   \n",
       "..           ...       ...        ...  ...                      ...   \n",
       "995            w         n          n  ...                        s   \n",
       "996            c         n          w  ...                        y   \n",
       "997            c         b          u  ...                        s   \n",
       "998            c         b          b  ...                        s   \n",
       "999            c         n          n  ...                        s   \n",
       "\n",
       "    stalk-color-above-ring stalk-color-below-ring veil-type veil-color  \\\n",
       "0                        w                      w         p          w   \n",
       "1                        w                      w         p          w   \n",
       "2                        w                      n         p          w   \n",
       "3                        g                      w         p          w   \n",
       "4                        w                      w         p          w   \n",
       "..                     ...                    ...       ...        ...   \n",
       "995                      w                      w         p          w   \n",
       "996                      w                      y         p          w   \n",
       "997                      g                      g         p          w   \n",
       "998                      g                      w         p          w   \n",
       "999                      w                      p         p          w   \n",
       "\n",
       "    ring-number ring-type spore-print-color population habitat  \n",
       "0             o         p                 n          v       d  \n",
       "1             o         f                 n          y       g  \n",
       "2             t         e                 w          n       g  \n",
       "3             o         p                 k          v       d  \n",
       "4             o         p                 n          s       u  \n",
       "..          ...       ...               ...        ...     ...  \n",
       "995           o         p                 n          v       d  \n",
       "996           o         e                 w          v       d  \n",
       "997           o         e                 k          y       d  \n",
       "998           o         p                 h          y       p  \n",
       "999           o         e                 k          v       l  \n",
       "\n",
       "[1000 rows x 23 columns]"
      ]
     },
     "execution_count": 330,
     "metadata": {},
     "output_type": "execute_result"
    }
   ],
   "source": [
    "df_mr = pd.read_csv(\"agaricus_lepiota_small_c.csv\")\n",
    "df_mr"
   ]
  },
  {
   "cell_type": "markdown",
   "id": "bc65cbd1",
   "metadata": {},
   "source": [
    "1. Codifique o atributo de saída (class) da seguinte forma: e → 0 e p → 1. Isto será útil para o cálculo da\n",
    "métrica f1_score, mais adiante."
   ]
  },
  {
   "cell_type": "code",
   "execution_count": 331,
   "id": "08d08be7",
   "metadata": {},
   "outputs": [
    {
     "name": "stdout",
     "output_type": "stream",
     "text": [
      "<class 'pandas.core.frame.DataFrame'>\n",
      "RangeIndex: 1000 entries, 0 to 999\n",
      "Data columns (total 23 columns):\n",
      " #   Column                    Non-Null Count  Dtype \n",
      "---  ------                    --------------  ----- \n",
      " 0   class                     1000 non-null   int64 \n",
      " 1   cap-shape                 1000 non-null   object\n",
      " 2   cap-surface               1000 non-null   object\n",
      " 3   cap-color                 1000 non-null   object\n",
      " 4   bruises                   1000 non-null   object\n",
      " 5   odor                      1000 non-null   object\n",
      " 6   gill-attachment           1000 non-null   object\n",
      " 7   gill-spacing              1000 non-null   object\n",
      " 8   gill-size                 1000 non-null   object\n",
      " 9   gill-color                1000 non-null   object\n",
      " 10  stalk-shape               1000 non-null   object\n",
      " 11  stalk-root                690 non-null    object\n",
      " 12  stalk-surface-above-ring  1000 non-null   object\n",
      " 13  stalk-surface-below-ring  1000 non-null   object\n",
      " 14  stalk-color-above-ring    1000 non-null   object\n",
      " 15  stalk-color-below-ring    1000 non-null   object\n",
      " 16  veil-type                 1000 non-null   object\n",
      " 17  veil-color                1000 non-null   object\n",
      " 18  ring-number               1000 non-null   object\n",
      " 19  ring-type                 1000 non-null   object\n",
      " 20  spore-print-color         1000 non-null   object\n",
      " 21  population                1000 non-null   object\n",
      " 22  habitat                   1000 non-null   object\n",
      "dtypes: int64(1), object(22)\n",
      "memory usage: 179.8+ KB\n"
     ]
    }
   ],
   "source": [
    "# Para ser mais prático, utilizei o replace para trocar os campos do atributo\n",
    "df_mr['class'].replace(\"e\", 0, inplace=True)\n",
    "df_mr['class'].replace(\"p\", 1, inplace=True)\n",
    "df_mr.info()"
   ]
  },
  {
   "cell_type": "markdown",
   "id": "9c0ffab3",
   "metadata": {},
   "source": [
    "2. Realize a imputação para os valores faltantes. Os valores faltantes estão em apenas na coluna “stalk-root”.\n",
    "A estratégia de imputação fica a seu critério. Também há a possibilidade de excluir esta coluna."
   ]
  },
  {
   "cell_type": "code",
   "execution_count": 332,
   "id": "b77bf30f",
   "metadata": {},
   "outputs": [
    {
     "data": {
      "text/plain": [
       "class                         0\n",
       "cap-shape                     0\n",
       "cap-surface                   0\n",
       "cap-color                     0\n",
       "bruises                       0\n",
       "odor                          0\n",
       "gill-attachment               0\n",
       "gill-spacing                  0\n",
       "gill-size                     0\n",
       "gill-color                    0\n",
       "stalk-shape                   0\n",
       "stalk-root                  310\n",
       "stalk-surface-above-ring      0\n",
       "stalk-surface-below-ring      0\n",
       "stalk-color-above-ring        0\n",
       "stalk-color-below-ring        0\n",
       "veil-type                     0\n",
       "veil-color                    0\n",
       "ring-number                   0\n",
       "ring-type                     0\n",
       "spore-print-color             0\n",
       "population                    0\n",
       "habitat                       0\n",
       "dtype: int64"
      ]
     },
     "execution_count": 332,
     "metadata": {},
     "output_type": "execute_result"
    }
   ],
   "source": [
    "# Verificando campos nulos\n",
    "df_mr.isnull().sum()"
   ]
  },
  {
   "cell_type": "code",
   "execution_count": 333,
   "id": "8cdb2163",
   "metadata": {},
   "outputs": [
    {
     "data": {
      "text/plain": [
       "class                       0\n",
       "cap-shape                   0\n",
       "cap-surface                 0\n",
       "cap-color                   0\n",
       "bruises                     0\n",
       "odor                        0\n",
       "gill-attachment             0\n",
       "gill-spacing                0\n",
       "gill-size                   0\n",
       "gill-color                  0\n",
       "stalk-shape                 0\n",
       "stalk-surface-above-ring    0\n",
       "stalk-surface-below-ring    0\n",
       "stalk-color-above-ring      0\n",
       "stalk-color-below-ring      0\n",
       "veil-type                   0\n",
       "veil-color                  0\n",
       "ring-number                 0\n",
       "ring-type                   0\n",
       "spore-print-color           0\n",
       "population                  0\n",
       "habitat                     0\n",
       "dtype: int64"
      ]
     },
     "execution_count": 333,
     "metadata": {},
     "output_type": "execute_result"
    }
   ],
   "source": [
    "# Optei por excluir a coluna por possuir muitos campos não preenchidos\n",
    "df_mr.drop(columns='stalk-root', inplace=True)\n",
    "df_mr.isnull().sum()"
   ]
  },
  {
   "cell_type": "markdown",
   "id": "a001c6bd",
   "metadata": {},
   "source": [
    "3. Faça a codificação dos atributos categóricos. O arquivo agaricus-lepiota.names explica a significado\n",
    "e os valores relativos a cada atributo da base de dados. De acordo com o significado e os valores de\n",
    "cada atributo decida qual é o codificador mais adequado."
   ]
  },
  {
   "cell_type": "markdown",
   "id": "c98ca9ab",
   "metadata": {},
   "source": [
    "Optei por utilizar o ordinal encoder para todos os campos."
   ]
  },
  {
   "cell_type": "code",
   "execution_count": 337,
   "id": "2ff2f6a8",
   "metadata": {},
   "outputs": [],
   "source": [
    "transformers = [\n",
    "    ('oe_cap-shape', OrdinalEncoder(), ['cap-shape']),\n",
    "    ('oe_cap-surface', OrdinalEncoder(), ['cap-surface']),\n",
    "    ('oe_cap-color', OrdinalEncoder(), ['cap-color']),\n",
    "    ('oe_bruises', OrdinalEncoder(), ['bruises']),\n",
    "    ('oe_odor', OrdinalEncoder(), ['odor']),\n",
    "    ('oe_gill-attachment', OrdinalEncoder(), ['gill-attachment']),\n",
    "    ('oe_gill-spacing', OrdinalEncoder(), ['gill-spacing']),\n",
    "    ('oe_gill-size', OrdinalEncoder(), ['gill-size']),\n",
    "    ('oe_gill-color', OrdinalEncoder(), ['gill-color']),\n",
    "    ('oe_stalk-shape', OrdinalEncoder(), ['stalk-shape']),\n",
    "    ('oe_stalk-surface-above-ring', OrdinalEncoder(), ['stalk-surface-above-ring']),\n",
    "    ('oe_stalk-surface-below-ring', OrdinalEncoder(), ['stalk-surface-below-ring']),\n",
    "    ('oe_stalk-color-above-ring', OrdinalEncoder(), ['stalk-color-above-ring']),\n",
    "    ('oe_stalk-color-below-ring', OrdinalEncoder(), ['stalk-color-below-ring']),\n",
    "    ('oe_veil-type', OrdinalEncoder(), ['veil-type']),\n",
    "    ('oe_veil-color', OrdinalEncoder(), ['veil-color']),\n",
    "    ('oe_ring-number', OrdinalEncoder(), ['ring-number']),\n",
    "    ('oe_ring-type', OrdinalEncoder(), ['ring-type']),\n",
    "    ('oe_spore-print-color', OrdinalEncoder(), ['spore-print-color']),\n",
    "    ('oe_population', OrdinalEncoder(), ['population']),\n",
    "    ('oe_habitat', OrdinalEncoder(), ['habitat']),\n",
    "]"
   ]
  },
  {
   "cell_type": "code",
   "execution_count": 338,
   "id": "7a9f6f24",
   "metadata": {},
   "outputs": [
    {
     "name": "stdout",
     "output_type": "stream",
     "text": [
      "[[4. 1. 9. ... 4. 0. 0.]\n",
      " [1. 1. 9. ... 5. 1. 0.]\n",
      " [2. 1. 8. ... 2. 1. 0.]\n",
      " ...\n",
      " [4. 0. 3. ... 5. 0. 0.]\n",
      " [0. 1. 8. ... 5. 4. 0.]\n",
      " [4. 1. 4. ... 4. 2. 1.]]\n"
     ]
    }
   ],
   "source": [
    "ct = ColumnTransformer(\n",
    "    transformers, remainder='passthrough'\n",
    ")\n",
    "y = df_mr['class']\n",
    "X_oe = ct.fit_transform(df_mr)\n",
    "\n",
    "print(X_oe)"
   ]
  },
  {
   "cell_type": "code",
   "execution_count": 339,
   "id": "4aeb7d77",
   "metadata": {},
   "outputs": [
    {
     "data": {
      "application/vnd.jupyter.widget-view+json": {
       "model_id": "e9b99b689ba74dfc80968a6603d9bf3c",
       "version_major": 2,
       "version_minor": 0
      },
      "text/plain": [
       "Folds avaliados:   0%|          | 0/10 [00:00<?, ?it/s]"
      ]
     },
     "metadata": {},
     "output_type": "display_data"
    }
   ],
   "source": [
    "accs = do_cv_knn(X_oe, y, 10, range(1,20,2))"
   ]
  },
  {
   "cell_type": "code",
   "execution_count": 340,
   "id": "00bca22c",
   "metadata": {},
   "outputs": [
    {
     "name": "stdout",
     "output_type": "stream",
     "text": [
      "acurácia - min: 0.95, max: 1.00, avg +- std: 0.98+-0.01\n"
     ]
    }
   ],
   "source": [
    "print(\"acurácia - min: %.2f, max: %.2f, avg +- std: %.2f+-%.2f\" % (min(accs), max(accs), np.mean(accs), np.std(accs)))"
   ]
  },
  {
   "cell_type": "markdown",
   "id": "6125c236",
   "metadata": {},
   "source": [
    "4. Avalie o desempenho do classificador KNN usando validação cruzada em dois níveis, conforme discutimos na Semana 4. A validação cruzada no primeiro deve ser em 10 vias, enquanto no segundo nível deve ser em 5 vias. Dica: no primeiro nível você deve usar StratifiedKFold para gerar os particionamentos, e\n",
    "no segundo nível você deve usar GridSearchCV. A validação cruzada no segundo nível deve selecionar\n",
    "o melhor k. Utilize a métrica f1-score da classe positiva (poisonous) para avaliar o desempenho do\n",
    "classificador em ambos níveis. Dica 1: use o parâmetro scoring no construtor do GridSearchCV para\n",
    "escolher a métrica de desempenho. Dica 2: a função f1_score do módulo sklearn.metrics calcula o\n",
    "f1_score e os parâmetros são os mesmos que usamos com accuracy_score."
   ]
  },
  {
   "cell_type": "code",
   "execution_count": 341,
   "id": "02a6a7c3",
   "metadata": {},
   "outputs": [],
   "source": [
    "accuracy_KNN = []\n",
    "skf = StratifiedKFold(n_splits=k1, shuffle=True, random_state=1)\n",
    "\n",
    "for idx_treino, idx_teste in skf.split(X, y):\n",
    "    X_treino = X_oe[idx_treino]\n",
    "    y_treino = y[idx_treino]\n",
    "\n",
    "    X_teste = X_oe[idx_teste]\n",
    "    y_teste = y[idx_teste]\n",
    "\n",
    "    ss = StandardScaler()\n",
    "    ss.fit(X_treino)\n",
    "    X_treino = ss.transform(X_treino)\n",
    "    X_teste = ss.transform(X_teste)\n",
    "\n",
    "    ftwo_scorer = make_scorer(fbeta_score, beta=2)\n",
    "    params = {'n_neighbors': range(1, 30, 1)}\n",
    "    knn = KNeighborsClassifier()\n",
    "    knn = GridSearchCV(knn, params, scoring=ftwo_scorer, cv=StratifiedKFold(n_splits=k2))\n",
    "    knn.fit(X_treino, y_treino)\n",
    "\n",
    "    pred_KNN = knn.predict(X_teste)\n",
    "\n",
    "    accuracy_KNN.append(f1_score(y_teste, pred_KNN))\n"
   ]
  },
  {
   "cell_type": "code",
   "execution_count": 342,
   "id": "59c62a9a",
   "metadata": {},
   "outputs": [
    {
     "name": "stdout",
     "output_type": "stream",
     "text": [
      "KNN:\n",
      "min: 0.968, max: 1.000, avg+-std: 0.982+-0.011\n",
      "\n"
     ]
    }
   ],
   "source": [
    "print(\"KNN:\\nmin: %.3f, max: %.3f, avg+-std: %.3f+-%.3f\\n\" % \n",
    "      (min(accuracy_KNN), max(accuracy_KNN), np.mean(accuracy_KNN), np.std(accuracy_KNN)))  "
   ]
  },
  {
   "cell_type": "markdown",
   "id": "2bf0985e",
   "metadata": {},
   "source": [
    "5. Avalie o desempenho do classificador SVM usando validação cruzada em dois níveis, da mesma forma\n",
    "que no item 3. A validação cruzada no segundo nível deve selecionar a melhor combinação de C e\n",
    "gamma (γ) de acordo com o que vimos na aula síncrona. Use o kernel rbf."
   ]
  },
  {
   "cell_type": "code",
   "execution_count": 343,
   "id": "c44d23d8",
   "metadata": {},
   "outputs": [
    {
     "data": {
      "application/vnd.jupyter.widget-view+json": {
       "model_id": "6429efa8913b491d94aa4d1543070d97",
       "version_major": 2,
       "version_minor": 0
      },
      "text/plain": [
       "Folds avaliados:   0%|          | 0/10 [00:00<?, ?it/s]"
      ]
     },
     "metadata": {},
     "output_type": "display_data"
    }
   ],
   "source": [
    "def do_cv_svm(X, y, cv_splits, Cs=[1], gammas=['scale']):\n",
    "    skf = StratifiedKFold(n_splits=cv_splits, shuffle=True, random_state=1)\n",
    "    accuracy_SVM = []\n",
    "    pgb = tqdm(total=cv_splits, desc='Folds avaliados')\n",
    "    \n",
    "    \n",
    "    for treino_idx, teste_idx in skf.split(X, y):\n",
    "        X_treino = X_oe[treino_idx]\n",
    "        y_treino = y[treino_idx]\n",
    "\n",
    "        X_teste = X_oe[teste_idx]\n",
    "        y_teste = y[teste_idx]\n",
    "\n",
    "        X_treino, X_val, y_treino, y_val = train_test_split(X_treino, y_treino, stratify=y_treino, test_size=0.2, random_state=1)\n",
    "\n",
    "        ss = StandardScaler()\n",
    "        ss.fit(X_treino)\n",
    "        X_treino = ss.transform(X_treino)\n",
    "        X_teste = ss.transform(X_teste)\n",
    "        X_val = ss.transform(X_val)\n",
    "\n",
    "\n",
    "        ftwo_scorer = make_scorer(fbeta_score, beta=2)\n",
    "        params = {'C': Cs, 'gamma': gammas}\n",
    "        svm = SVC()\n",
    "        svm = GridSearchCV(svm, params, scoring=ftwo_scorer, cv=StratifiedKFold(n_splits=k2))\n",
    "        svm.fit(X_treino, y_treino)\n",
    "        \n",
    "        pred_SVM = svm.predict(X_teste)\n",
    "        \n",
    "        accuracy_SVM.append(accuracy_score(y_teste, pred_SVM))\n",
    "        \n",
    "        pgb.update(1)\n",
    "        \n",
    "    pgb.close()\n",
    "    \n",
    "    return accuracy_SVM, pred_SVM\n",
    "\n",
    "accuracy_SVM, pred_SVM = do_cv_svm(X, y, k1, Cs=[1, 10, 100, 1000], gammas=['scale', 'auto', 2e-2, 2e-3, 2e-4])\n"
   ]
  },
  {
   "cell_type": "code",
   "execution_count": 344,
   "id": "1b3ee52d",
   "metadata": {},
   "outputs": [
    {
     "name": "stdout",
     "output_type": "stream",
     "text": [
      "SVM:\n",
      "min: 0.990, max: 1.000, avg+-std: 0.999+-0.003\n"
     ]
    }
   ],
   "source": [
    "print(\"SVM:\\nmin: %.3f, max: %.3f, avg+-std: %.3f+-%.3f\" % \n",
    "      (min(accuracy_SVM), max(accuracy_SVM), np.mean(accuracy_SVM), np.std(accuracy_SVM)))"
   ]
  },
  {
   "cell_type": "markdown",
   "id": "0f33d0d1",
   "metadata": {},
   "source": [
    "6. Faça o teste da hipótese nula (pelo Teste-T) para verificar se os resultados obtidos com o KNN e com a SVM são estatisticamente diferentes com 95% de confiança. Interprete o resultado do teste."
   ]
  },
  {
   "cell_type": "code",
   "execution_count": 345,
   "id": "9cf8cea3",
   "metadata": {
    "scrolled": true
   },
   "outputs": [
    {
     "name": "stdout",
     "output_type": "stream",
     "text": [
      "pvalue:  0.00014560935760035002\n",
      "O melhor classificador, estatisticamente, é: \n",
      "SVM\n"
     ]
    }
   ],
   "source": [
    "# salvando as médias e desvios\n",
    "avg_KNN = np.mean(accuracy_KNN)\n",
    "std_KNN = np.std(accuracy_KNN)\n",
    "\n",
    "avg_SVM = np.mean(accuracy_SVM)\n",
    "std_SVM = np.std(accuracy_SVM)\n",
    "\n",
    "def reject_null_hypothesis(classifier_avg_1, classifier_std_1, len_classifier_1, classifier_avg_2, classifier_std_2, len_classifier_2, alpha=0.05):\n",
    "\n",
    "    _, pvalue = ttest_ind_from_stats(classifier_avg_1, classifier_std_1, len_classifier_1, classifier_avg_2, classifier_std_2, len_classifier_2)\n",
    "    print(\"pvalue: \", pvalue)\n",
    "    return pvalue <= alpha\n",
    "\n",
    "flag = reject_null_hypothesis(avg_KNN, std_KNN, len(accuracy_KNN), avg_SVM, std_SVM, len(accuracy_SVM))\n",
    "\n",
    "if flag:\n",
    "    print(\"O melhor classificador, estatisticamente, é: \")\n",
    "    if avg_SVM > avg_KNN: \n",
    "        print(\"SVM\")\n",
    "\n",
    "    else: \n",
    "        print(\"KNN\")\n",
    "        \n",
    "else:\n",
    "    print(\"Nenhum dos classificadores se mostrou significativamente melhor.\")\n"
   ]
  },
  {
   "cell_type": "markdown",
   "id": "23fd878e",
   "metadata": {},
   "source": [
    "Apesar de ambos métodos serem bons para definir qual cogumelo é envenenado ou não, o SVM se mostrou mais acertivo, por isso foi o escolhido."
   ]
  },
  {
   "cell_type": "markdown",
   "id": "0df1ac79",
   "metadata": {},
   "source": [
    "\n",
    "7. Você usaria algum classificador que criou para decidir se comeria ou não um cogumelo classificado por\n",
    "ele? Justifique usando o desempenho obtido e o resultado do teste de hipótese.\n"
   ]
  },
  {
   "cell_type": "markdown",
   "id": "643a1d59",
   "metadata": {},
   "source": [
    "Sim, o SVM se mostrou muito bom, com uma acertividade altíssima, além de que o pvalue, como mostrado acima, é extremamente baixo, dando ainda mais credibilidade ao método."
   ]
  }
 ],
 "metadata": {
  "kernelspec": {
   "display_name": "Python 3",
   "language": "python",
   "name": "python3"
  },
  "language_info": {
   "codemirror_mode": {
    "name": "ipython",
    "version": 3
   },
   "file_extension": ".py",
   "mimetype": "text/x-python",
   "name": "python",
   "nbconvert_exporter": "python",
   "pygments_lexer": "ipython3",
   "version": "3.8.8"
  }
 },
 "nbformat": 4,
 "nbformat_minor": 5
}
