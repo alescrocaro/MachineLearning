{
 "cells": [
  {
   "cell_type": "code",
   "execution_count": 106,
   "id": "fc583ad0",
   "metadata": {},
   "outputs": [],
   "source": [
    "import pandas as pd\n",
    "import numpy as np\n",
    "\n",
    "import math\n",
    "\n",
    "import matplotlib.pyplot as plt\n",
    "from matplotlib.colors import ListedColormap\n",
    "\n",
    "import seaborn as sns\n",
    "\n",
    "from sklearn.decomposition import PCA\n",
    "from sklearn.preprocessing import StandardScaler\n",
    "from sklearn.model_selection import train_test_split, StratifiedKFold\n",
    "from sklearn.metrics import accuracy_score\n",
    "from sklearn.neighbors import KNeighborsClassifier\n",
    "from sklearn.model_selection import GridSearchCV\n",
    "from sklearn.svm import SVC\n",
    "\n",
    "import itertools\n",
    "from tqdm.notebook import tqdm\n",
    "from joblib import Parallel, delayed\n",
    "\n",
    "from scipy.stats import ttest_ind_from_stats"
   ]
  },
  {
   "cell_type": "markdown",
   "id": "a9160854",
   "metadata": {},
   "source": [
    "Primeiramente, utilizarei o pandas para carregar o dataset"
   ]
  },
  {
   "cell_type": "code",
   "execution_count": 78,
   "id": "12f56f12",
   "metadata": {
    "scrolled": false
   },
   "outputs": [
    {
     "data": {
      "text/html": [
       "<div>\n",
       "<style scoped>\n",
       "    .dataframe tbody tr th:only-of-type {\n",
       "        vertical-align: middle;\n",
       "    }\n",
       "\n",
       "    .dataframe tbody tr th {\n",
       "        vertical-align: top;\n",
       "    }\n",
       "\n",
       "    .dataframe thead th {\n",
       "        text-align: right;\n",
       "    }\n",
       "</style>\n",
       "<table border=\"1\" class=\"dataframe\">\n",
       "  <thead>\n",
       "    <tr style=\"text-align: right;\">\n",
       "      <th></th>\n",
       "      <th>PassengerId</th>\n",
       "      <th>Survived</th>\n",
       "      <th>Pclass</th>\n",
       "      <th>Name</th>\n",
       "      <th>Sex</th>\n",
       "      <th>Age</th>\n",
       "      <th>SibSp</th>\n",
       "      <th>Parch</th>\n",
       "      <th>Ticket</th>\n",
       "      <th>Fare</th>\n",
       "      <th>Cabin</th>\n",
       "      <th>Embarked</th>\n",
       "    </tr>\n",
       "  </thead>\n",
       "  <tbody>\n",
       "    <tr>\n",
       "      <th>0</th>\n",
       "      <td>1</td>\n",
       "      <td>0</td>\n",
       "      <td>3</td>\n",
       "      <td>Braund, Mr. Owen Harris</td>\n",
       "      <td>male</td>\n",
       "      <td>22.0</td>\n",
       "      <td>1</td>\n",
       "      <td>0</td>\n",
       "      <td>A/5 21171</td>\n",
       "      <td>7.2500</td>\n",
       "      <td>NaN</td>\n",
       "      <td>S</td>\n",
       "    </tr>\n",
       "    <tr>\n",
       "      <th>1</th>\n",
       "      <td>2</td>\n",
       "      <td>1</td>\n",
       "      <td>1</td>\n",
       "      <td>Cumings, Mrs. John Bradley (Florence Briggs Th...</td>\n",
       "      <td>female</td>\n",
       "      <td>38.0</td>\n",
       "      <td>1</td>\n",
       "      <td>0</td>\n",
       "      <td>PC 17599</td>\n",
       "      <td>71.2833</td>\n",
       "      <td>C85</td>\n",
       "      <td>C</td>\n",
       "    </tr>\n",
       "    <tr>\n",
       "      <th>2</th>\n",
       "      <td>3</td>\n",
       "      <td>1</td>\n",
       "      <td>3</td>\n",
       "      <td>Heikkinen, Miss. Laina</td>\n",
       "      <td>female</td>\n",
       "      <td>26.0</td>\n",
       "      <td>0</td>\n",
       "      <td>0</td>\n",
       "      <td>STON/O2. 3101282</td>\n",
       "      <td>7.9250</td>\n",
       "      <td>NaN</td>\n",
       "      <td>S</td>\n",
       "    </tr>\n",
       "    <tr>\n",
       "      <th>3</th>\n",
       "      <td>4</td>\n",
       "      <td>1</td>\n",
       "      <td>1</td>\n",
       "      <td>Futrelle, Mrs. Jacques Heath (Lily May Peel)</td>\n",
       "      <td>female</td>\n",
       "      <td>35.0</td>\n",
       "      <td>1</td>\n",
       "      <td>0</td>\n",
       "      <td>113803</td>\n",
       "      <td>53.1000</td>\n",
       "      <td>C123</td>\n",
       "      <td>S</td>\n",
       "    </tr>\n",
       "    <tr>\n",
       "      <th>4</th>\n",
       "      <td>5</td>\n",
       "      <td>0</td>\n",
       "      <td>3</td>\n",
       "      <td>Allen, Mr. William Henry</td>\n",
       "      <td>male</td>\n",
       "      <td>35.0</td>\n",
       "      <td>0</td>\n",
       "      <td>0</td>\n",
       "      <td>373450</td>\n",
       "      <td>8.0500</td>\n",
       "      <td>NaN</td>\n",
       "      <td>S</td>\n",
       "    </tr>\n",
       "    <tr>\n",
       "      <th>...</th>\n",
       "      <td>...</td>\n",
       "      <td>...</td>\n",
       "      <td>...</td>\n",
       "      <td>...</td>\n",
       "      <td>...</td>\n",
       "      <td>...</td>\n",
       "      <td>...</td>\n",
       "      <td>...</td>\n",
       "      <td>...</td>\n",
       "      <td>...</td>\n",
       "      <td>...</td>\n",
       "      <td>...</td>\n",
       "    </tr>\n",
       "    <tr>\n",
       "      <th>886</th>\n",
       "      <td>887</td>\n",
       "      <td>0</td>\n",
       "      <td>2</td>\n",
       "      <td>Montvila, Rev. Juozas</td>\n",
       "      <td>male</td>\n",
       "      <td>27.0</td>\n",
       "      <td>0</td>\n",
       "      <td>0</td>\n",
       "      <td>211536</td>\n",
       "      <td>13.0000</td>\n",
       "      <td>NaN</td>\n",
       "      <td>S</td>\n",
       "    </tr>\n",
       "    <tr>\n",
       "      <th>887</th>\n",
       "      <td>888</td>\n",
       "      <td>1</td>\n",
       "      <td>1</td>\n",
       "      <td>Graham, Miss. Margaret Edith</td>\n",
       "      <td>female</td>\n",
       "      <td>19.0</td>\n",
       "      <td>0</td>\n",
       "      <td>0</td>\n",
       "      <td>112053</td>\n",
       "      <td>30.0000</td>\n",
       "      <td>B42</td>\n",
       "      <td>S</td>\n",
       "    </tr>\n",
       "    <tr>\n",
       "      <th>888</th>\n",
       "      <td>889</td>\n",
       "      <td>0</td>\n",
       "      <td>3</td>\n",
       "      <td>Johnston, Miss. Catherine Helen \"Carrie\"</td>\n",
       "      <td>female</td>\n",
       "      <td>NaN</td>\n",
       "      <td>1</td>\n",
       "      <td>2</td>\n",
       "      <td>W./C. 6607</td>\n",
       "      <td>23.4500</td>\n",
       "      <td>NaN</td>\n",
       "      <td>S</td>\n",
       "    </tr>\n",
       "    <tr>\n",
       "      <th>889</th>\n",
       "      <td>890</td>\n",
       "      <td>1</td>\n",
       "      <td>1</td>\n",
       "      <td>Behr, Mr. Karl Howell</td>\n",
       "      <td>male</td>\n",
       "      <td>26.0</td>\n",
       "      <td>0</td>\n",
       "      <td>0</td>\n",
       "      <td>111369</td>\n",
       "      <td>30.0000</td>\n",
       "      <td>C148</td>\n",
       "      <td>C</td>\n",
       "    </tr>\n",
       "    <tr>\n",
       "      <th>890</th>\n",
       "      <td>891</td>\n",
       "      <td>0</td>\n",
       "      <td>3</td>\n",
       "      <td>Dooley, Mr. Patrick</td>\n",
       "      <td>male</td>\n",
       "      <td>32.0</td>\n",
       "      <td>0</td>\n",
       "      <td>0</td>\n",
       "      <td>370376</td>\n",
       "      <td>7.7500</td>\n",
       "      <td>NaN</td>\n",
       "      <td>Q</td>\n",
       "    </tr>\n",
       "  </tbody>\n",
       "</table>\n",
       "<p>891 rows × 12 columns</p>\n",
       "</div>"
      ],
      "text/plain": [
       "     PassengerId  Survived  Pclass  \\\n",
       "0              1         0       3   \n",
       "1              2         1       1   \n",
       "2              3         1       3   \n",
       "3              4         1       1   \n",
       "4              5         0       3   \n",
       "..           ...       ...     ...   \n",
       "886          887         0       2   \n",
       "887          888         1       1   \n",
       "888          889         0       3   \n",
       "889          890         1       1   \n",
       "890          891         0       3   \n",
       "\n",
       "                                                  Name     Sex   Age  SibSp  \\\n",
       "0                              Braund, Mr. Owen Harris    male  22.0      1   \n",
       "1    Cumings, Mrs. John Bradley (Florence Briggs Th...  female  38.0      1   \n",
       "2                               Heikkinen, Miss. Laina  female  26.0      0   \n",
       "3         Futrelle, Mrs. Jacques Heath (Lily May Peel)  female  35.0      1   \n",
       "4                             Allen, Mr. William Henry    male  35.0      0   \n",
       "..                                                 ...     ...   ...    ...   \n",
       "886                              Montvila, Rev. Juozas    male  27.0      0   \n",
       "887                       Graham, Miss. Margaret Edith  female  19.0      0   \n",
       "888           Johnston, Miss. Catherine Helen \"Carrie\"  female   NaN      1   \n",
       "889                              Behr, Mr. Karl Howell    male  26.0      0   \n",
       "890                                Dooley, Mr. Patrick    male  32.0      0   \n",
       "\n",
       "     Parch            Ticket     Fare Cabin Embarked  \n",
       "0        0         A/5 21171   7.2500   NaN        S  \n",
       "1        0          PC 17599  71.2833   C85        C  \n",
       "2        0  STON/O2. 3101282   7.9250   NaN        S  \n",
       "3        0            113803  53.1000  C123        S  \n",
       "4        0            373450   8.0500   NaN        S  \n",
       "..     ...               ...      ...   ...      ...  \n",
       "886      0            211536  13.0000   NaN        S  \n",
       "887      0            112053  30.0000   B42        S  \n",
       "888      2        W./C. 6607  23.4500   NaN        S  \n",
       "889      0            111369  30.0000  C148        C  \n",
       "890      0            370376   7.7500   NaN        Q  \n",
       "\n",
       "[891 rows x 12 columns]"
      ]
     },
     "execution_count": 78,
     "metadata": {},
     "output_type": "execute_result"
    }
   ],
   "source": [
    "df_train = pd.read_csv(\"train.csv\")\n",
    "df_train"
   ]
  },
  {
   "cell_type": "markdown",
   "id": "b0efd05f",
   "metadata": {},
   "source": [
    "1) Limpe a base de dados. Nesta etapa você deve decidir o que fazer com as instâncias que possuem\n",
    "dados faltantes: preencher os dados faltantes de acordo com alguma regra? Descartar as instâncias que\n",
    "possuem dados faltantes?"
   ]
  },
  {
   "cell_type": "markdown",
   "id": "e8715574",
   "metadata": {},
   "source": [
    "Para iniciar, descobrirei quais colunas possuem dados faltantes"
   ]
  },
  {
   "cell_type": "code",
   "execution_count": 80,
   "id": "815c2781",
   "metadata": {},
   "outputs": [
    {
     "data": {
      "text/plain": [
       "PassengerId      0\n",
       "Survived         0\n",
       "Pclass           0\n",
       "Name             0\n",
       "Sex              0\n",
       "Age            177\n",
       "SibSp            0\n",
       "Parch            0\n",
       "Ticket           0\n",
       "Fare             0\n",
       "Cabin          687\n",
       "Embarked         2\n",
       "dtype: int64"
      ]
     },
     "execution_count": 80,
     "metadata": {},
     "output_type": "execute_result"
    }
   ],
   "source": [
    "df_train.isnull().sum()"
   ]
  },
  {
   "cell_type": "markdown",
   "id": "8742cea3",
   "metadata": {},
   "source": [
    "Como observado acima, as colunas Age, Cabin e Embarked são as únicas. Não podemos deletar nenhuma linha do data frame, pois todas (pessoas) são fundamentais para o estudo, então vamos analisar o que pode ser feito com cada coluna:\n",
    "\n",
    "Começando por Age: 177 pessoas não possuem idade identificada, optarei por preencher os campos com a idade média do dataset todo."
   ]
  },
  {
   "cell_type": "code",
   "execution_count": 82,
   "id": "c9fe69a5",
   "metadata": {},
   "outputs": [
    {
     "data": {
      "text/plain": [
       "PassengerId      0\n",
       "Survived         0\n",
       "Pclass           0\n",
       "Name             0\n",
       "Sex              0\n",
       "Age              0\n",
       "SibSp            0\n",
       "Parch            0\n",
       "Ticket           0\n",
       "Fare             0\n",
       "Cabin          687\n",
       "Embarked         2\n",
       "dtype: int64"
      ]
     },
     "execution_count": 82,
     "metadata": {},
     "output_type": "execute_result"
    }
   ],
   "source": [
    "# Primeiro, devo descobrir a idade média\n",
    "average = math.floor(df_train['Age'].mean())\n",
    "\n",
    "# Agora vou substituir os NaN da coluna Age, pela média descoberta\n",
    "df_train.update(df_train['Age'].fillna(average))\n",
    "\n",
    "df_train.isnull().sum()"
   ]
  },
  {
   "cell_type": "markdown",
   "id": "7bde7769",
   "metadata": {},
   "source": [
    "Passando para Cabin: 687 pessoas tiveram os dados de sua cabine perdidos, como não é possível advinhar em qual cabine cada pessoa estava, irei apenas atualizar os valores NaN para \"NI\"* no data frame. Essa coluna não será utilizada posteriormente com fins de treino ou teste, atualizarei o valor apenas para fins informativos, caso precise verificar a cabine de uma pessoa específica, será possível.\n",
    "\n",
    "*NI refere-se a Not Identified."
   ]
  },
  {
   "cell_type": "code",
   "execution_count": 83,
   "id": "a0177f09",
   "metadata": {
    "scrolled": true
   },
   "outputs": [
    {
     "data": {
      "text/plain": [
       "PassengerId    0\n",
       "Survived       0\n",
       "Pclass         0\n",
       "Name           0\n",
       "Sex            0\n",
       "Age            0\n",
       "SibSp          0\n",
       "Parch          0\n",
       "Ticket         0\n",
       "Fare           0\n",
       "Cabin          0\n",
       "Embarked       2\n",
       "dtype: int64"
      ]
     },
     "execution_count": 83,
     "metadata": {},
     "output_type": "execute_result"
    }
   ],
   "source": [
    "# Preenchendo dados\n",
    "df_train.update(df_train['Cabin'].fillna('NI'))\n",
    "\n",
    "df_train.isnull().sum()"
   ]
  },
  {
   "cell_type": "markdown",
   "id": "0657b611",
   "metadata": {},
   "source": [
    "Observando na última coluna com dados faltantes, encontra-se apenas duas pessoas com seus dados de cidade de embarque perdidos. Para tal, decidi verificar a quantidade de embarques em cada cidades."
   ]
  },
  {
   "cell_type": "code",
   "execution_count": 37,
   "id": "683f22c4",
   "metadata": {},
   "outputs": [
    {
     "data": {
      "text/plain": [
       "Embarked\n",
       "C    168\n",
       "Q     77\n",
       "S    644\n",
       "Name: PassengerId, dtype: int64"
      ]
     },
     "execution_count": 37,
     "metadata": {},
     "output_type": "execute_result"
    }
   ],
   "source": [
    "df_train.groupby(\"Embarked\").count()['PassengerId']"
   ]
  },
  {
   "cell_type": "markdown",
   "id": "33536bec",
   "metadata": {},
   "source": [
    "Utilizando o PassengerId - o qual presumi que seja único - percebi a discrepante diferença na quantidade de pessoas que saem de southampton, S, comparada com as outras cidades. A utilizaremos para os campos faltantes, visto que possui a maior probabilidade de ser a cidade de embarque das duas pessoas."
   ]
  },
  {
   "cell_type": "code",
   "execution_count": 85,
   "id": "32edbf95",
   "metadata": {},
   "outputs": [
    {
     "data": {
      "text/plain": [
       "PassengerId    0\n",
       "Survived       0\n",
       "Pclass         0\n",
       "Name           0\n",
       "Sex            0\n",
       "Age            0\n",
       "SibSp          0\n",
       "Parch          0\n",
       "Ticket         0\n",
       "Fare           0\n",
       "Cabin          0\n",
       "Embarked       0\n",
       "dtype: int64"
      ]
     },
     "execution_count": 85,
     "metadata": {},
     "output_type": "execute_result"
    }
   ],
   "source": [
    "df_train.update(df_train['Embarked'].fillna('S'))\n",
    "\n",
    "df_train.isnull().sum()"
   ]
  },
  {
   "cell_type": "markdown",
   "id": "0db166ac",
   "metadata": {},
   "source": [
    "2) Faça a conversão dos atributos categóricos em atributos numéricos. Estas conversões devem ser\n",
    "realizadas considerando se o atributo categórico é ordinal ou não."
   ]
  },
  {
   "cell_type": "code",
   "execution_count": 86,
   "id": "fae2fa6f",
   "metadata": {},
   "outputs": [
    {
     "name": "stdout",
     "output_type": "stream",
     "text": [
      "<class 'pandas.core.frame.DataFrame'>\n",
      "RangeIndex: 891 entries, 0 to 890\n",
      "Data columns (total 12 columns):\n",
      " #   Column       Non-Null Count  Dtype  \n",
      "---  ------       --------------  -----  \n",
      " 0   PassengerId  891 non-null    int64  \n",
      " 1   Survived     891 non-null    int64  \n",
      " 2   Pclass       891 non-null    int64  \n",
      " 3   Name         891 non-null    object \n",
      " 4   Sex          891 non-null    object \n",
      " 5   Age          891 non-null    float64\n",
      " 6   SibSp        891 non-null    int64  \n",
      " 7   Parch        891 non-null    int64  \n",
      " 8   Ticket       891 non-null    object \n",
      " 9   Fare         891 non-null    float64\n",
      " 10  Cabin        891 non-null    object \n",
      " 11  Embarked     891 non-null    object \n",
      "dtypes: float64(2), int64(5), object(5)\n",
      "memory usage: 83.7+ KB\n"
     ]
    }
   ],
   "source": [
    "df_train.info()"
   ]
  },
  {
   "cell_type": "markdown",
   "id": "df884239",
   "metadata": {},
   "source": [
    "De acordo com a especificação do projeto, os atributos categóricos são Sex e Embarked. Começando por Sex, substituirei masculino para 0 e feminino para 1. E então o Embarked será substituido de C para 0, Q para 1 e S para 2."
   ]
  },
  {
   "cell_type": "code",
   "execution_count": 87,
   "id": "2738ea9b",
   "metadata": {},
   "outputs": [
    {
     "name": "stdout",
     "output_type": "stream",
     "text": [
      "<class 'pandas.core.frame.DataFrame'>\n",
      "RangeIndex: 891 entries, 0 to 890\n",
      "Data columns (total 12 columns):\n",
      " #   Column       Non-Null Count  Dtype  \n",
      "---  ------       --------------  -----  \n",
      " 0   PassengerId  891 non-null    int64  \n",
      " 1   Survived     891 non-null    int64  \n",
      " 2   Pclass       891 non-null    int64  \n",
      " 3   Name         891 non-null    object \n",
      " 4   Sex          891 non-null    int64  \n",
      " 5   Age          891 non-null    float64\n",
      " 6   SibSp        891 non-null    int64  \n",
      " 7   Parch        891 non-null    int64  \n",
      " 8   Ticket       891 non-null    object \n",
      " 9   Fare         891 non-null    float64\n",
      " 10  Cabin        891 non-null    object \n",
      " 11  Embarked     891 non-null    int64  \n",
      "dtypes: float64(2), int64(7), object(3)\n",
      "memory usage: 83.7+ KB\n"
     ]
    }
   ],
   "source": [
    "df_train['Sex'].replace(\"male\", 0, inplace=True)\n",
    "df_train['Sex'].replace(\"female\", 1, inplace=True)\n",
    "\n",
    "df_train['Embarked'].replace(\"C\", 0, inplace=True)\n",
    "df_train['Embarked'].replace(\"Q\", 1, inplace=True)\n",
    "df_train['Embarked'].replace(\"S\", 2, inplace=True)\n",
    "df_train.info()"
   ]
  },
  {
   "cell_type": "markdown",
   "id": "3a85f731",
   "metadata": {},
   "source": [
    "Como observado acima, os atributos se tornaram do tipo int."
   ]
  },
  {
   "cell_type": "markdown",
   "id": "7122ecc8",
   "metadata": {},
   "source": [
    "3) Explore a base de dados. Conheça a distribuição dos atributos de entrada em relação aos atributos\n",
    "de entrada. A partir da exploração é possível ter uma idéia de quais atributos podem conter mais\n",
    "informação útil para realizar a classificação."
   ]
  },
  {
   "cell_type": "markdown",
   "id": "01935b6d",
   "metadata": {},
   "source": [
    "Irei gerar os gráficos baseados em proporção, não em quantidade, assim tenho dados mais realistas para a análise. "
   ]
  },
  {
   "cell_type": "markdown",
   "id": "d1a767da",
   "metadata": {},
   "source": [
    "Primeiramente, verificando o histograma de sobreviventes por sexo, observa-se que há uma proporção de sobrevivência muito maior de mulheres."
   ]
  },
  {
   "cell_type": "code",
   "execution_count": 88,
   "id": "12a41561",
   "metadata": {},
   "outputs": [
    {
     "data": {
      "image/png": "[encoded data removed]",
      "text/plain": [
       "<Figure size 432x288 with 1 Axes>"
      ]
     },
     "metadata": {
      "needs_background": "light"
     },
     "output_type": "display_data"
    }
   ],
   "source": [
    "survivors_class = df_train.copy()\n",
    "survivors_class['Survived'] = df_train['Survived'] == 1\n",
    "\n",
    "sns.barplot(data=survivors_class, y='Survived', x='Sex')\n",
    "plt.title('Ratio of people who survived according to sex')\n",
    "plt.show()\n",
    "\n",
    "####    0 = homem      1 = mulher    ####"
   ]
  },
  {
   "cell_type": "markdown",
   "id": "9962bce4",
   "metadata": {},
   "source": [
    "Passando agora para as classes, pode se observar que a proporção de sobrevivência de pessoas mais ricas, foi consideravelmente maior."
   ]
  },
  {
   "cell_type": "code",
   "execution_count": 90,
   "id": "fc75c206",
   "metadata": {},
   "outputs": [
    {
     "data": {
      "image/png": "[encoded data removed]",
      "text/plain": [
       "<Figure size 432x288 with 1 Axes>"
      ]
     },
     "metadata": {
      "needs_background": "light"
     },
     "output_type": "display_data"
    }
   ],
   "source": [
    "survivors_class = df_train.copy()\n",
    "survivors_class['Survived'] = df_train['Survived'] == 1\n",
    "\n",
    "sns.barplot(data=survivors_class, y='Survived', x='Pclass')\n",
    "plt.title('Ratio of people who survived according to Pclass')\n",
    "plt.show()\n",
    "\n",
    "####    0 = primeira classe      1 = segunda classe      2 = terceira classe    ####"
   ]
  },
  {
   "cell_type": "markdown",
   "id": "2784b697",
   "metadata": {},
   "source": [
    "Um outro atributo que encontrei com diferenças consideráveis foi a cidade de embarque."
   ]
  },
  {
   "cell_type": "code",
   "execution_count": 91,
   "id": "56e9f6ee",
   "metadata": {
    "scrolled": true
   },
   "outputs": [
    {
     "data": {
      "image/png": "[encoded data removed]",
      "text/plain": [
       "<Figure size 432x288 with 1 Axes>"
      ]
     },
     "metadata": {
      "needs_background": "light"
     },
     "output_type": "display_data"
    }
   ],
   "source": [
    "survivors_embarked = df_train.copy()\n",
    "survivors_embarked['Embarked'] = df_train['Survived'] == 1\n",
    "sns.barplot(data=survivors_class, y='Survived', x='Embarked')\n",
    "plt.title('Ratio of who survived according to where embarked')\n",
    "plt.show()\n",
    "\n",
    "####    0 = C (Cherbourg)      1 = Q (Queenstown)      2 = S (Southampton)   ####"
   ]
  },
  {
   "cell_type": "markdown",
   "id": "f4e4de7a",
   "metadata": {},
   "source": [
    "Um adendo: resolvi não utilizar o atributo idade por ter muitos campos vazios no dataframe (os quais preenchi com a média das idades), porque poderia utilizar muitos dados falsos, prejudicando, por exemplo, a análise de crianças sobreviventes ou criançar sobreviventes de acordo com o sexo."
   ]
  },
  {
   "cell_type": "markdown",
   "id": "633110ff",
   "metadata": {},
   "source": [
    "4) Normalize os dados de acordo com o que estudamos na aula."
   ]
  },
  {
   "cell_type": "markdown",
   "id": "6cd0e6a3",
   "metadata": {},
   "source": [
    "Primeiro carreguei os atributos escolhidos na cópia que gerei do dataframe original, assim consegui obter apenas os atributos anteriormente escolhidos, e então os normalizei com o StandardScaler().fit_transform()"
   ]
  },
  {
   "cell_type": "code",
   "execution_count": 92,
   "id": "ee93e874",
   "metadata": {},
   "outputs": [],
   "source": [
    "df = df_train.copy()\n",
    "\n",
    "atributes = ['Pclass', 'Sex', 'Embarked']\n",
    "X = df[atributes]\n",
    "y = df['Survived']\n",
    "X = StandardScaler().fit_transform(X)"
   ]
  },
  {
   "cell_type": "markdown",
   "id": "48d2ad7c",
   "metadata": {},
   "source": [
    "5) Visualize o espaço de características usando a técnica PCA. Isto dará uma idéia da separabilidade das\n",
    "classes a partir dos atributos que você escolheu."
   ]
  },
  {
   "cell_type": "markdown",
   "id": "1ba48715",
   "metadata": {},
   "source": [
    "Ao fazer o PCA, pode-se observar que os atributos foram bem escolhidos, já que ficaram claramente separados; um classificador não linear conseguirá realizar uma boa separação de quem sobreviveu ou não"
   ]
  },
  {
   "cell_type": "code",
   "execution_count": 93,
   "id": "8eb1c349",
   "metadata": {},
   "outputs": [
    {
     "data": {
      "text/plain": [
       "<AxesSubplot:xlabel='PC 0', ylabel='PC 1'>"
      ]
     },
     "execution_count": 93,
     "metadata": {},
     "output_type": "execute_result"
    },
    {
     "data": {
      "image/png": "[encoded data removed]",
      "text/plain": [
       "<Figure size 432x288 with 1 Axes>"
      ]
     },
     "metadata": {
      "needs_background": "light"
     },
     "output_type": "display_data"
    }
   ],
   "source": [
    "pca = PCA(n_components=2)\n",
    "pca.fit(X)\n",
    "\n",
    "X_pca = pca.transform(X)  # Projetar os 3 atributos nos 2 componentes principais\n",
    "X_pca_df = pd.DataFrame(X_pca, columns=['PC 0', 'PC 1']) # Aqui, nota-se que a dimensionalidade dos dados projetados agora tem apenas 2 atributos!\n",
    "\n",
    "# Plota os dados projetados nos componentes principais. Colorir os pontos de acordo com o Survived\n",
    "sns.set_palette('seismic')\n",
    "sns.scatterplot(data=X_pca_df, x='PC 0', y='PC 1', hue=y, palette='Set1')"
   ]
  },
  {
   "cell_type": "markdown",
   "id": "feab2f24",
   "metadata": {},
   "source": [
    "6) Utilize ambos classificadores estudados até o momento: KNN e SVM. Os hiperparâmetros devem ser\n",
    "selecionados usando o processo de validação cruzada, descrito a seguir.\n",
    "\n",
    "7) Realize o processo de validação cruzada duplo. No primeiro nível você deve usar validação cruzada em\n",
    "k-vias para avaliar o desempenho do seu classificador em particionamentos diferentes. Use a métrica\n",
    "de classificação que julgar adequada para este problema. No segundo nível você deve usar a validação\n",
    "cruzada para escolher a melhor combinação de hiperparâmetros para o classificador."
   ]
  },
  {
   "cell_type": "markdown",
   "id": "dcda178f",
   "metadata": {},
   "source": [
    "Primeiramente, utilizarei o KNN"
   ]
  },
  {
   "cell_type": "code",
   "execution_count": 102,
   "id": "c5894972",
   "metadata": {},
   "outputs": [],
   "source": [
    "k1 = 10\n",
    "k2 = 10"
   ]
  },
  {
   "cell_type": "code",
   "execution_count": 103,
   "id": "b2fb717f",
   "metadata": {},
   "outputs": [],
   "source": [
    "accuracy_KNN = []\n",
    "skf = StratifiedKFold(n_splits=k1, shuffle=True, random_state=1)\n",
    "\n",
    "for idx_treino, idx_teste in skf.split(X, y):\n",
    "    X_treino = X[idx_treino]\n",
    "    y_treino = y[idx_treino]\n",
    "    \n",
    "    X_teste = X[idx_teste]\n",
    "    y_teste = y[idx_teste]\n",
    "    \n",
    "    ss = StandardScaler()\n",
    "    ss.fit(X_treino)\n",
    "    X_treino = ss.transform(X_treino)\n",
    "    X_teste = ss.transform(X_teste)\n",
    "    \n",
    "    params = {'n_neighbors': range(1, 30, 2)}\n",
    "    knn = KNeighborsClassifier()\n",
    "    knn = GridSearchCV(knn, params, cv=StratifiedKFold(n_splits=k2))\n",
    "    knn.fit(X_treino, y_treino)\n",
    "    \n",
    "    accuracy_KNN.append(accuracy_score(y_teste, knn.predict(X_teste)))"
   ]
  },
  {
   "cell_type": "markdown",
   "id": "389963d9",
   "metadata": {},
   "source": [
    "Agora o SVM:"
   ]
  },
  {
   "cell_type": "code",
   "execution_count": 109,
   "id": "5b87195a",
   "metadata": {},
   "outputs": [
    {
     "data": {
      "application/vnd.jupyter.widget-view+json": {
       "model_id": "80e22ee36f4e467ea243e758d1506ddf",
       "version_major": 2,
       "version_minor": 0
      },
      "text/plain": [
       "Folds avaliados:   0%|          | 0/10 [00:00<?, ?it/s]"
      ]
     },
     "metadata": {},
     "output_type": "display_data"
    }
   ],
   "source": [
    "def do_cv_svm(X, y, cv_splits, Cs=[1], gammas=['scale']):\n",
    "    skf = StratifiedKFold(n_splits=cv_splits, shuffle=True, random_state=1)\n",
    "    accuracy_SVM = []\n",
    "    pgb = tqdm(total=cv_splits, desc='Folds avaliados')\n",
    "    \n",
    "    for treino_idx, teste_idx in skf.split(X, y):\n",
    "\n",
    "        X_treino = X[treino_idx]\n",
    "        y_treino = y[treino_idx]\n",
    "\n",
    "        X_teste = X[teste_idx]\n",
    "        y_teste = y[teste_idx]\n",
    "\n",
    "        X_treino, X_val, y_treino, y_val = train_test_split(X_treino, y_treino, stratify=y_treino, test_size=0.2, random_state=1)\n",
    "\n",
    "        ss = StandardScaler()\n",
    "        ss.fit(X_treino)\n",
    "        X_treino = ss.transform(X_treino)\n",
    "        X_teste = ss.transform(X_teste)\n",
    "        X_val = ss.transform(X_val)\n",
    "\n",
    "        \n",
    "        params = {'n_neighbors': range(1, 30, 2)}\n",
    "        svm = KNeighborsClassifier()\n",
    "        svm = GridSearchCV(svm, params, cv=StratifiedKFold(n_splits=k2))\n",
    "        svm.fit(X_treino, y_treino)\n",
    "        \n",
    "        pred = svm.predict(X_teste)\n",
    "        \n",
    "        accuracy_SVM.append(accuracy_score(y_teste, pred))\n",
    "        \n",
    "        pgb.update(1)\n",
    "        \n",
    "    pgb.close()\n",
    "    \n",
    "    return accuracy_SVM\n",
    "\n",
    "accuracy_SVM = do_cv_svm(X, y, k1, Cs=[1, 10, 100, 1000, 10000], gammas=['scale', 'auto', 2e-2, 2e-3, 2e-4])"
   ]
  },
  {
   "cell_type": "markdown",
   "id": "4b630ade",
   "metadata": {},
   "source": [
    "8) Selecione o melhor modelo gerado usando análise estatística do desempenho obtido pelos classificadores\n",
    "durante a validação cruzada. Faça esta seleção de forma automática!"
   ]
  },
  {
   "cell_type": "markdown",
   "id": "e6d2c385",
   "metadata": {},
   "source": [
    "Por fim, podemos comparar ambos resultados:"
   ]
  },
  {
   "cell_type": "code",
   "execution_count": 110,
   "id": "96c2b3ec",
   "metadata": {},
   "outputs": [
    {
     "name": "stdout",
     "output_type": "stream",
     "text": [
      "KNN:\n",
      "min: 0.685, max: 0.888, avg+-std: 0.802+-0.062\n",
      "\n",
      "SVM:\n",
      "min: 0.719, max: 0.888, avg+-std: 0.810+-0.049\n"
     ]
    }
   ],
   "source": [
    "print(\"KNN:\\nmin: %.3f, max: %.3f, avg+-std: %.3f+-%.3f\\n\" % \n",
    "      (min(accuracy_KNN), max(accuracy_KNN), np.mean(accuracy_KNN), np.std(accuracy_KNN)))  \n",
    "\n",
    "print(\"SVM:\\nmin: %.3f, max: %.3f, avg+-std: %.3f+-%.3f\" % \n",
    "      (min(accuracy_SVM), max(accuracy_SVM), np.mean(accuracy_SVM), np.std(accuracy_SVM)))"
   ]
  },
  {
   "cell_type": "markdown",
   "id": "fd2bf709",
   "metadata": {},
   "source": [
    "Agora vamos determinar, estatíticamente, qual é o melhor classificador "
   ]
  },
  {
   "cell_type": "code",
   "execution_count": 116,
   "id": "7c6885fe",
   "metadata": {},
   "outputs": [
    {
     "data": {
      "text/plain": [
       "False"
      ]
     },
     "execution_count": 116,
     "metadata": {},
     "output_type": "execute_result"
    }
   ],
   "source": [
    "# salvando as médias e desvios\n",
    "avg_KNN = np.mean(accuracy_KNN)\n",
    "std_KNN = np.std(accuracy_KNN)\n",
    "\n",
    "avg_SVM = np.mean(accuracy_SVM)\n",
    "std_SVM = np.std(accuracy_SVM)\n",
    "\n",
    "def rejeitar_hip_nula(classifier_avg_1, classifier_std_1, len_classifier_1, classifier_avg_2, classifier_std_2, len_classifier_2, alpha=0.05):\n",
    "    \n",
    "    _, pvalor = ttest_ind_from_stats(classifier_avg_1, classifier_std_1, len_classifier_1, classifier_avg_2, classifier_std_2, len_classifier_2)\n",
    "    \n",
    "    return pvalor <= alpha\n",
    "\n",
    "rejeitar_hip_nula(avg_KNN, std_KNN, len(accuracy_KNN), avg_SVM, std_SVM, len(accuracy_SVM))"
   ]
  },
  {
   "cell_type": "markdown",
   "id": "536e7f0f",
   "metadata": {},
   "source": [
    "9) Apresente os resultados da classificação com todos os modelos, apresentando as métricas de classificação\n",
    "por classe e também da classificação como um todo."
   ]
  },
  {
   "cell_type": "code",
   "execution_count": null,
   "id": "22bd6a47",
   "metadata": {},
   "outputs": [],
   "source": []
  },
  {
   "cell_type": "markdown",
   "id": "be58e428",
   "metadata": {},
   "source": [
    "10) Repita os passos acima para desenvolver classificadores cada vez mais sofisticados :)"
   ]
  },
  {
   "cell_type": "markdown",
   "id": "ccc86068",
   "metadata": {},
   "source": [
    "Trabalho realizado com base nos códigos disponibilizados pelo professor em https://github.com/julianofoleiss/AM36O"
   ]
  }
 ],
 "metadata": {
  "kernelspec": {
   "display_name": "Python 3",
   "language": "python",
   "name": "python3"
  },
  "language_info": {
   "codemirror_mode": {
    "name": "ipython",
    "version": 3
   },
   "file_extension": ".py",
   "mimetype": "text/x-python",
   "name": "python",
   "nbconvert_exporter": "python",
   "pygments_lexer": "ipython3",
   "version": "3.8.8"
  }
 },
 "nbformat": 4,
 "nbformat_minor": 5
}
