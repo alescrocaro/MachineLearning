{
 "cells": [
  {
   "cell_type": "code",
   "execution_count": 132,
   "id": "fc583ad0",
   "metadata": {},
   "outputs": [],
   "source": [
    "import pandas as pd\n",
    "import numpy as np\n",
    "import math\n",
    "import matplotlib.pyplot as plt\n",
    "from matplotlib.colors import ListedColormap\n",
    "import seaborn as sns\n",
    "from sklearn.decomposition import PCA\n",
    "from sklearn.preprocessing import StandardScaler\n",
    "from sklearn.model_selection import train_test_split, StratifiedKFold\n",
    "from sklearn.metrics import accuracy_score\n",
    "from sklearn.neighbors import KNeighborsClassifier\n",
    "from sklearn.model_selection import GridSearchCV"
   ]
  },
  {
   "cell_type": "code",
   "execution_count": 133,
   "id": "12f56f12",
   "metadata": {
    "scrolled": false
   },
   "outputs": [
    {
     "data": {
      "text/html": [
       "<div>\n",
       "<style scoped>\n",
       "    .dataframe tbody tr th:only-of-type {\n",
       "        vertical-align: middle;\n",
       "    }\n",
       "\n",
       "    .dataframe tbody tr th {\n",
       "        vertical-align: top;\n",
       "    }\n",
       "\n",
       "    .dataframe thead th {\n",
       "        text-align: right;\n",
       "    }\n",
       "</style>\n",
       "<table border=\"1\" class=\"dataframe\">\n",
       "  <thead>\n",
       "    <tr style=\"text-align: right;\">\n",
       "      <th></th>\n",
       "      <th>PassengerId</th>\n",
       "      <th>Survived</th>\n",
       "      <th>Pclass</th>\n",
       "      <th>Name</th>\n",
       "      <th>Sex</th>\n",
       "      <th>Age</th>\n",
       "      <th>SibSp</th>\n",
       "      <th>Parch</th>\n",
       "      <th>Ticket</th>\n",
       "      <th>Fare</th>\n",
       "      <th>Cabin</th>\n",
       "      <th>Embarked</th>\n",
       "    </tr>\n",
       "  </thead>\n",
       "  <tbody>\n",
       "    <tr>\n",
       "      <th>0</th>\n",
       "      <td>1</td>\n",
       "      <td>0</td>\n",
       "      <td>3</td>\n",
       "      <td>Braund, Mr. Owen Harris</td>\n",
       "      <td>male</td>\n",
       "      <td>22.0</td>\n",
       "      <td>1</td>\n",
       "      <td>0</td>\n",
       "      <td>A/5 21171</td>\n",
       "      <td>7.2500</td>\n",
       "      <td>NaN</td>\n",
       "      <td>S</td>\n",
       "    </tr>\n",
       "    <tr>\n",
       "      <th>1</th>\n",
       "      <td>2</td>\n",
       "      <td>1</td>\n",
       "      <td>1</td>\n",
       "      <td>Cumings, Mrs. John Bradley (Florence Briggs Th...</td>\n",
       "      <td>female</td>\n",
       "      <td>38.0</td>\n",
       "      <td>1</td>\n",
       "      <td>0</td>\n",
       "      <td>PC 17599</td>\n",
       "      <td>71.2833</td>\n",
       "      <td>C85</td>\n",
       "      <td>C</td>\n",
       "    </tr>\n",
       "    <tr>\n",
       "      <th>2</th>\n",
       "      <td>3</td>\n",
       "      <td>1</td>\n",
       "      <td>3</td>\n",
       "      <td>Heikkinen, Miss. Laina</td>\n",
       "      <td>female</td>\n",
       "      <td>26.0</td>\n",
       "      <td>0</td>\n",
       "      <td>0</td>\n",
       "      <td>STON/O2. 3101282</td>\n",
       "      <td>7.9250</td>\n",
       "      <td>NaN</td>\n",
       "      <td>S</td>\n",
       "    </tr>\n",
       "    <tr>\n",
       "      <th>3</th>\n",
       "      <td>4</td>\n",
       "      <td>1</td>\n",
       "      <td>1</td>\n",
       "      <td>Futrelle, Mrs. Jacques Heath (Lily May Peel)</td>\n",
       "      <td>female</td>\n",
       "      <td>35.0</td>\n",
       "      <td>1</td>\n",
       "      <td>0</td>\n",
       "      <td>113803</td>\n",
       "      <td>53.1000</td>\n",
       "      <td>C123</td>\n",
       "      <td>S</td>\n",
       "    </tr>\n",
       "    <tr>\n",
       "      <th>4</th>\n",
       "      <td>5</td>\n",
       "      <td>0</td>\n",
       "      <td>3</td>\n",
       "      <td>Allen, Mr. William Henry</td>\n",
       "      <td>male</td>\n",
       "      <td>35.0</td>\n",
       "      <td>0</td>\n",
       "      <td>0</td>\n",
       "      <td>373450</td>\n",
       "      <td>8.0500</td>\n",
       "      <td>NaN</td>\n",
       "      <td>S</td>\n",
       "    </tr>\n",
       "    <tr>\n",
       "      <th>...</th>\n",
       "      <td>...</td>\n",
       "      <td>...</td>\n",
       "      <td>...</td>\n",
       "      <td>...</td>\n",
       "      <td>...</td>\n",
       "      <td>...</td>\n",
       "      <td>...</td>\n",
       "      <td>...</td>\n",
       "      <td>...</td>\n",
       "      <td>...</td>\n",
       "      <td>...</td>\n",
       "      <td>...</td>\n",
       "    </tr>\n",
       "    <tr>\n",
       "      <th>886</th>\n",
       "      <td>887</td>\n",
       "      <td>0</td>\n",
       "      <td>2</td>\n",
       "      <td>Montvila, Rev. Juozas</td>\n",
       "      <td>male</td>\n",
       "      <td>27.0</td>\n",
       "      <td>0</td>\n",
       "      <td>0</td>\n",
       "      <td>211536</td>\n",
       "      <td>13.0000</td>\n",
       "      <td>NaN</td>\n",
       "      <td>S</td>\n",
       "    </tr>\n",
       "    <tr>\n",
       "      <th>887</th>\n",
       "      <td>888</td>\n",
       "      <td>1</td>\n",
       "      <td>1</td>\n",
       "      <td>Graham, Miss. Margaret Edith</td>\n",
       "      <td>female</td>\n",
       "      <td>19.0</td>\n",
       "      <td>0</td>\n",
       "      <td>0</td>\n",
       "      <td>112053</td>\n",
       "      <td>30.0000</td>\n",
       "      <td>B42</td>\n",
       "      <td>S</td>\n",
       "    </tr>\n",
       "    <tr>\n",
       "      <th>888</th>\n",
       "      <td>889</td>\n",
       "      <td>0</td>\n",
       "      <td>3</td>\n",
       "      <td>Johnston, Miss. Catherine Helen \"Carrie\"</td>\n",
       "      <td>female</td>\n",
       "      <td>NaN</td>\n",
       "      <td>1</td>\n",
       "      <td>2</td>\n",
       "      <td>W./C. 6607</td>\n",
       "      <td>23.4500</td>\n",
       "      <td>NaN</td>\n",
       "      <td>S</td>\n",
       "    </tr>\n",
       "    <tr>\n",
       "      <th>889</th>\n",
       "      <td>890</td>\n",
       "      <td>1</td>\n",
       "      <td>1</td>\n",
       "      <td>Behr, Mr. Karl Howell</td>\n",
       "      <td>male</td>\n",
       "      <td>26.0</td>\n",
       "      <td>0</td>\n",
       "      <td>0</td>\n",
       "      <td>111369</td>\n",
       "      <td>30.0000</td>\n",
       "      <td>C148</td>\n",
       "      <td>C</td>\n",
       "    </tr>\n",
       "    <tr>\n",
       "      <th>890</th>\n",
       "      <td>891</td>\n",
       "      <td>0</td>\n",
       "      <td>3</td>\n",
       "      <td>Dooley, Mr. Patrick</td>\n",
       "      <td>male</td>\n",
       "      <td>32.0</td>\n",
       "      <td>0</td>\n",
       "      <td>0</td>\n",
       "      <td>370376</td>\n",
       "      <td>7.7500</td>\n",
       "      <td>NaN</td>\n",
       "      <td>Q</td>\n",
       "    </tr>\n",
       "  </tbody>\n",
       "</table>\n",
       "<p>891 rows × 12 columns</p>\n",
       "</div>"
      ],
      "text/plain": [
       "     PassengerId  Survived  Pclass  \\\n",
       "0              1         0       3   \n",
       "1              2         1       1   \n",
       "2              3         1       3   \n",
       "3              4         1       1   \n",
       "4              5         0       3   \n",
       "..           ...       ...     ...   \n",
       "886          887         0       2   \n",
       "887          888         1       1   \n",
       "888          889         0       3   \n",
       "889          890         1       1   \n",
       "890          891         0       3   \n",
       "\n",
       "                                                  Name     Sex   Age  SibSp  \\\n",
       "0                              Braund, Mr. Owen Harris    male  22.0      1   \n",
       "1    Cumings, Mrs. John Bradley (Florence Briggs Th...  female  38.0      1   \n",
       "2                               Heikkinen, Miss. Laina  female  26.0      0   \n",
       "3         Futrelle, Mrs. Jacques Heath (Lily May Peel)  female  35.0      1   \n",
       "4                             Allen, Mr. William Henry    male  35.0      0   \n",
       "..                                                 ...     ...   ...    ...   \n",
       "886                              Montvila, Rev. Juozas    male  27.0      0   \n",
       "887                       Graham, Miss. Margaret Edith  female  19.0      0   \n",
       "888           Johnston, Miss. Catherine Helen \"Carrie\"  female   NaN      1   \n",
       "889                              Behr, Mr. Karl Howell    male  26.0      0   \n",
       "890                                Dooley, Mr. Patrick    male  32.0      0   \n",
       "\n",
       "     Parch            Ticket     Fare Cabin Embarked  \n",
       "0        0         A/5 21171   7.2500   NaN        S  \n",
       "1        0          PC 17599  71.2833   C85        C  \n",
       "2        0  STON/O2. 3101282   7.9250   NaN        S  \n",
       "3        0            113803  53.1000  C123        S  \n",
       "4        0            373450   8.0500   NaN        S  \n",
       "..     ...               ...      ...   ...      ...  \n",
       "886      0            211536  13.0000   NaN        S  \n",
       "887      0            112053  30.0000   B42        S  \n",
       "888      2        W./C. 6607  23.4500   NaN        S  \n",
       "889      0            111369  30.0000  C148        C  \n",
       "890      0            370376   7.7500   NaN        Q  \n",
       "\n",
       "[891 rows x 12 columns]"
      ]
     },
     "execution_count": 133,
     "metadata": {},
     "output_type": "execute_result"
    }
   ],
   "source": [
    "df_train = pd.read_csv(\"train.csv\")\n",
    "df_train"
   ]
  },
  {
   "cell_type": "markdown",
   "id": "b0efd05f",
   "metadata": {},
   "source": [
    "1) Limpe a base de dados. Nesta etapa você deve decidir o que fazer com as instâncias que possuem\n",
    "dados faltantes: preencher os dados faltantes de acordo com alguma regra? Descartar as instâncias que\n",
    "possuem dados faltantes?"
   ]
  },
  {
   "cell_type": "markdown",
   "id": "e8715574",
   "metadata": {},
   "source": [
    "Primeiramente, descobri quais colunas possuem dados faltantes."
   ]
  },
  {
   "cell_type": "code",
   "execution_count": 134,
   "id": "815c2781",
   "metadata": {},
   "outputs": [
    {
     "data": {
      "text/plain": [
       "PassengerId      0\n",
       "Survived         0\n",
       "Pclass           0\n",
       "Name             0\n",
       "Sex              0\n",
       "Age            177\n",
       "SibSp            0\n",
       "Parch            0\n",
       "Ticket           0\n",
       "Fare             0\n",
       "Cabin          687\n",
       "Embarked         2\n",
       "dtype: int64"
      ]
     },
     "execution_count": 134,
     "metadata": {},
     "output_type": "execute_result"
    }
   ],
   "source": [
    "df_train.isnull().sum()"
   ]
  },
  {
   "cell_type": "markdown",
   "id": "8742cea3",
   "metadata": {},
   "source": [
    "Como observado acima, as colunas Age, Cabin e Embarked são as únicas. Não podemos deletar nenhuma linha do data frame, pois todas (pessoas) são fundamentais para o estudo, então vamo analisar o que pode ser feito com cada coluna:\n",
    "\n",
    "Age: 177 pessoas sem idade identificada, vou optar por preenchê-los com a idade média."
   ]
  },
  {
   "cell_type": "code",
   "execution_count": 135,
   "id": "c9fe69a5",
   "metadata": {},
   "outputs": [
    {
     "data": {
      "text/plain": [
       "PassengerId      0\n",
       "Survived         0\n",
       "Pclass           0\n",
       "Name             0\n",
       "Sex              0\n",
       "Age              0\n",
       "SibSp            0\n",
       "Parch            0\n",
       "Ticket           0\n",
       "Fare             0\n",
       "Cabin          687\n",
       "Embarked         2\n",
       "dtype: int64"
      ]
     },
     "execution_count": 135,
     "metadata": {},
     "output_type": "execute_result"
    }
   ],
   "source": [
    "# Primeiro, devo descobrir a idade média\n",
    "average = math.floor(df_train['Age'].mean())\n",
    "\n",
    "# Agora vou substituir os NaN da coluna Age, pela média descoberta\n",
    "df_train.update(df_train['Age'].fillna(average))\n",
    "df_train.isnull().sum()"
   ]
  },
  {
   "cell_type": "markdown",
   "id": "7bde7769",
   "metadata": {},
   "source": [
    "Passando para Cabin: 687 pessoas tiveram os dados de sua cabine perdidos, como não é possível advinhar em qual cabine cada pessoa estava, vou apenas atualizar os valores NaN para 'NI'* no data frame. Observação: não utilizarei essa coluna posteriormente para treinar a máquina, apenas mudei o valor para fins visuais, poderia ter excluido a coluna, mas caso alguém queira verificar a cabine de uma pessoa específica, será possível.\n",
    "\n",
    "*NI refere-se a Not Identified."
   ]
  },
  {
   "cell_type": "code",
   "execution_count": 136,
   "id": "a0177f09",
   "metadata": {
    "scrolled": true
   },
   "outputs": [
    {
     "data": {
      "text/plain": [
       "PassengerId    0\n",
       "Survived       0\n",
       "Pclass         0\n",
       "Name           0\n",
       "Sex            0\n",
       "Age            0\n",
       "SibSp          0\n",
       "Parch          0\n",
       "Ticket         0\n",
       "Fare           0\n",
       "Cabin          0\n",
       "Embarked       2\n",
       "dtype: int64"
      ]
     },
     "execution_count": 136,
     "metadata": {},
     "output_type": "execute_result"
    }
   ],
   "source": [
    "df_train.update(df_train['Cabin'].fillna('NI'))\n",
    "df_train.isnull().sum()"
   ]
  },
  {
   "cell_type": "markdown",
   "id": "0657b611",
   "metadata": {},
   "source": [
    "Chegando na última coluna, encontramos apenas duas pessoas com seus dados de cidade de embarque perdidos. Para tal, decidi verificar a quantidade de embarque em cada cidade, assim consigo visualizar a qual cidade a pessoa pode ser atribuida."
   ]
  },
  {
   "cell_type": "code",
   "execution_count": 137,
   "id": "683f22c4",
   "metadata": {},
   "outputs": [
    {
     "data": {
      "text/plain": [
       "Embarked\n",
       "C    168\n",
       "Q     77\n",
       "S    644\n",
       "Name: PassengerId, dtype: int64"
      ]
     },
     "execution_count": 137,
     "metadata": {},
     "output_type": "execute_result"
    }
   ],
   "source": [
    "df_train.groupby(\"Embarked\").count()['PassengerId']"
   ]
  },
  {
   "cell_type": "markdown",
   "id": "33536bec",
   "metadata": {},
   "source": [
    "Utilizando o PassengerId - o qual presumi que seja único - percebi a discrepante diferença na quantidade de pessoas que saem de southampton, S. Portanto atribuí S para ambas pessoas com cidade de embarque faltante."
   ]
  },
  {
   "cell_type": "code",
   "execution_count": 138,
   "id": "32edbf95",
   "metadata": {},
   "outputs": [
    {
     "data": {
      "text/plain": [
       "PassengerId    0\n",
       "Survived       0\n",
       "Pclass         0\n",
       "Name           0\n",
       "Sex            0\n",
       "Age            0\n",
       "SibSp          0\n",
       "Parch          0\n",
       "Ticket         0\n",
       "Fare           0\n",
       "Cabin          0\n",
       "Embarked       0\n",
       "dtype: int64"
      ]
     },
     "execution_count": 138,
     "metadata": {},
     "output_type": "execute_result"
    }
   ],
   "source": [
    "df_train.update(df_train['Embarked'].fillna('S'))\n",
    "df_train.isnull().sum()"
   ]
  },
  {
   "cell_type": "markdown",
   "id": "0db166ac",
   "metadata": {},
   "source": [
    "2) Faça a conversão dos atributos categóricos em atributos numéricos. Estas conversões devem ser\n",
    "realizadas considerando se o atributo categórico é ordinal ou não."
   ]
  },
  {
   "cell_type": "code",
   "execution_count": 139,
   "id": "fae2fa6f",
   "metadata": {},
   "outputs": [
    {
     "name": "stdout",
     "output_type": "stream",
     "text": [
      "<class 'pandas.core.frame.DataFrame'>\n",
      "RangeIndex: 891 entries, 0 to 890\n",
      "Data columns (total 12 columns):\n",
      " #   Column       Non-Null Count  Dtype  \n",
      "---  ------       --------------  -----  \n",
      " 0   PassengerId  891 non-null    int64  \n",
      " 1   Survived     891 non-null    int64  \n",
      " 2   Pclass       891 non-null    int64  \n",
      " 3   Name         891 non-null    object \n",
      " 4   Sex          891 non-null    object \n",
      " 5   Age          891 non-null    float64\n",
      " 6   SibSp        891 non-null    int64  \n",
      " 7   Parch        891 non-null    int64  \n",
      " 8   Ticket       891 non-null    object \n",
      " 9   Fare         891 non-null    float64\n",
      " 10  Cabin        891 non-null    object \n",
      " 11  Embarked     891 non-null    object \n",
      "dtypes: float64(2), int64(5), object(5)\n",
      "memory usage: 83.7+ KB\n"
     ]
    }
   ],
   "source": [
    "df_train.info()"
   ]
  },
  {
   "cell_type": "markdown",
   "id": "df884239",
   "metadata": {},
   "source": [
    "De acordo com a especificação do projeto, os atributos categóricos são Sex e Embarked. Começando em Sex, substituirei masculino para 0 e feminino para 1. E então o Embarked será substituido de C para 0, Q para 1 e S para 2."
   ]
  },
  {
   "cell_type": "code",
   "execution_count": 140,
   "id": "2738ea9b",
   "metadata": {},
   "outputs": [
    {
     "name": "stdout",
     "output_type": "stream",
     "text": [
      "<class 'pandas.core.frame.DataFrame'>\n",
      "RangeIndex: 891 entries, 0 to 890\n",
      "Data columns (total 12 columns):\n",
      " #   Column       Non-Null Count  Dtype  \n",
      "---  ------       --------------  -----  \n",
      " 0   PassengerId  891 non-null    int64  \n",
      " 1   Survived     891 non-null    int64  \n",
      " 2   Pclass       891 non-null    int64  \n",
      " 3   Name         891 non-null    object \n",
      " 4   Sex          891 non-null    int64  \n",
      " 5   Age          891 non-null    float64\n",
      " 6   SibSp        891 non-null    int64  \n",
      " 7   Parch        891 non-null    int64  \n",
      " 8   Ticket       891 non-null    object \n",
      " 9   Fare         891 non-null    float64\n",
      " 10  Cabin        891 non-null    object \n",
      " 11  Embarked     891 non-null    int64  \n",
      "dtypes: float64(2), int64(7), object(3)\n",
      "memory usage: 83.7+ KB\n"
     ]
    }
   ],
   "source": [
    "df_train['Sex'].replace(\"male\", 0, inplace=True)\n",
    "df_train['Sex'].replace(\"female\", 1, inplace=True)\n",
    "df_train['Embarked'].replace(\"C\", 0, inplace=True)\n",
    "df_train['Embarked'].replace(\"Q\", 1, inplace=True)\n",
    "df_train['Embarked'].replace(\"S\", 2, inplace=True)\n",
    "df_train.info()"
   ]
  },
  {
   "cell_type": "markdown",
   "id": "3a85f731",
   "metadata": {},
   "source": [
    "Como observado acima, os atributos se tornaram do tipo int."
   ]
  },
  {
   "cell_type": "markdown",
   "id": "7122ecc8",
   "metadata": {},
   "source": [
    "3) Explore a base de dados. Conheça a distribuição dos atributos de entrada em relação aos atributos\n",
    "de entrada. A partir da exploração é possível ter uma idéia de quais atributos podem conter mais\n",
    "informação útil para realizar a classificação."
   ]
  },
  {
   "cell_type": "markdown",
   "id": "01935b6d",
   "metadata": {},
   "source": [
    "Abaixo, vou fazer vários gráficos para verificar quais dados são melhores para verificar as probabilidades de sobrevivência de acordo com algum atributo. Utilizarei gráficos baseados em proporção, não em quantidade, assim tenho melhores dados para análise. Um adendo: não utilizarei o atributo idade por ter muitos campos vazios no DF (os quais preenchi com a média das idades), porque poderia utilizar muitos dados falsos, prejudicando, por exemplo, a análise de crianças sobreviventes."
   ]
  },
  {
   "cell_type": "markdown",
   "id": "d1a767da",
   "metadata": {},
   "source": [
    "Primeiramente, verificando o histograma de sobreviventes por sexo, observa-se que há uma proporção de sobrevivência muito maior de mulheres."
   ]
  },
  {
   "cell_type": "code",
   "execution_count": 141,
   "id": "12a41561",
   "metadata": {},
   "outputs": [
    {
     "data": {
<<<<<<< HEAD
      "image/png": "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\n",
=======
      "image/png": "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",
>>>>>>> 885f45239cc21fcec3aabfa615ee2218f5a92c8d
      "text/plain": [
       "<Figure size 432x288 with 1 Axes>"
      ]
     },
     "metadata": {
      "needs_background": "light"
     },
     "output_type": "display_data"
    }
   ],
   "source": [
    "survivors_class = df_train.copy()\n",
    "survivors_class['Survived'] = df_train['Survived'] == 1\n",
    "\n",
    "sns.barplot(data=survivors_class, y='Survived', x='Sex')\n",
    "plt.title('Ratio of people who survived according to sex')\n",
    "plt.show()\n",
    "\n",
    "####    0 = homem      1 = mulher    ####"
   ]
  },
  {
   "cell_type": "markdown",
   "id": "9962bce4",
   "metadata": {},
   "source": [
    "Passando agora para as classes, pode se observar que a proporção de sobrevivência de pessoas mais ricas, foi consideravelmente maior."
   ]
  },
  {
   "cell_type": "code",
   "execution_count": 142,
   "id": "fc75c206",
   "metadata": {},
   "outputs": [
    {
     "data": {
<<<<<<< HEAD
      "image/png": "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\n",
=======
      "image/png": "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",
>>>>>>> 885f45239cc21fcec3aabfa615ee2218f5a92c8d
      "text/plain": [
       "<Figure size 432x288 with 1 Axes>"
      ]
     },
     "metadata": {
      "needs_background": "light"
     },
     "output_type": "display_data"
    }
   ],
   "source": [
    "survivors_class = df_train.copy()\n",
    "survivors_class['Survived'] = df_train['Survived'] == 1\n",
    "\n",
    "sns.barplot(data=survivors_class, y='Survived', x='Pclass')\n",
    "plt.title('Ratio of people who survived according to class')\n",
    "plt.show()\n",
    "\n",
    "####    0 = primeira classe      1 = segunda classe      2 = terceira classe    ####"
   ]
  },
  {
   "cell_type": "markdown",
   "id": "2784b697",
   "metadata": {},
   "source": [
    "Um outro atributo que encontrei com diferenças consideráveis foi a cidade de embarque."
   ]
  },
  {
   "cell_type": "code",
   "execution_count": 143,
   "id": "56e9f6ee",
   "metadata": {
    "scrolled": true
   },
   "outputs": [
    {
     "data": {
<<<<<<< HEAD
      "image/png": "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\n",
=======
      "image/png": "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",
>>>>>>> 885f45239cc21fcec3aabfa615ee2218f5a92c8d
      "text/plain": [
       "<Figure size 432x288 with 1 Axes>"
      ]
     },
     "metadata": {
      "needs_background": "light"
     },
     "output_type": "display_data"
    }
   ],
   "source": [
    "survivors_embarked = df_train.copy()\n",
    "survivors_embarked['Embarked'] = df_train['Survived'] == 1\n",
    "sns.barplot(data=survivors_class, y='Survived', x='Embarked')\n",
    "plt.title('Ratio of who survived according to where embarked')\n",
    "plt.show()\n",
    "\n",
    "####    0 = C (Cherbourg)      1 = Q (Queenstown)      2 = S (Southampton)   ####"
   ]
  },
  {
   "cell_type": "markdown",
   "id": "633110ff",
   "metadata": {},
   "source": [
    "4) Normalize os dados de acordo com o que estudamos na aula."
   ]
  },
  {
   "cell_type": "markdown",
   "id": "6cd0e6a3",
   "metadata": {},
   "source": [
    "Primeiro atribuí os atributos escolhidos ao df, assim já consegui obter apenas os cados que eu queria normalizados."
   ]
  },
  {
   "cell_type": "code",
   "execution_count": 144,
   "id": "ee93e874",
   "metadata": {},
   "outputs": [],
   "source": [
    "df = df_train.copy()\n",
    "\n",
    "atributes = ['Pclass', 'Sex', 'Embarked']\n",
    "X = df[atributes]\n",
    "y = df['Survived']\n",
    "X = StandardScaler().fit_transform(X)"
   ]
  },
  {
   "cell_type": "markdown",
   "id": "48d2ad7c",
   "metadata": {},
   "source": [
    "5) Visualize o espaço de características usando a técnica PCA. Isto dará uma idéia da separabilidade das\n",
    "classes a partir dos atributos que você escolheu."
   ]
  },
  {
   "cell_type": "markdown",
   "id": "1ba48715",
   "metadata": {},
   "source": [
    "Ao fazer o PCA, pode-se observar que os atributos foram bem escolhidos, já que ficaram claramente separados"
   ]
  },
  {
   "cell_type": "code",
   "execution_count": 145,
   "id": "8eb1c349",
   "metadata": {},
   "outputs": [
    {
     "data": {
      "text/plain": [
       "<AxesSubplot:xlabel='PC 0', ylabel='PC 1'>"
      ]
     },
     "execution_count": 145,
     "metadata": {},
     "output_type": "execute_result"
    },
    {
     "data": {
      "image/png": "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",
      "text/plain": [
       "<Figure size 432x288 with 1 Axes>"
      ]
     },
     "metadata": {
      "needs_background": "light"
     },
     "output_type": "display_data"
    }
   ],
   "source": [
    "pca = PCA(n_components=2)\n",
    "pca.fit(X)\n",
    "\n",
    "X_pca = pca.transform(X)  # Projetar os 3 atributos nos 2 componentes principais\n",
    "X_pca_df = pd.DataFrame(X_pca, columns=['PC 0', 'PC 1']) # Aqui, nota-se que a dimensionalidade dos dados projetados agora tem apenas 2 atributos!\n",
    "\n",
    "# Plota os dados projetados nos componentes principais. Colorir os pontos de acordo com o Survived\n",
    "sns.set_palette('seismic')\n",
    "sns.scatterplot(data=X_pca_df, x='PC 0', y='PC 1', hue=y, palette='Set1')\n",
    "\n",
    "# #calcular a média do valor dos atributos para cada classe.\n",
    "# df.groupby('Survived').mean().transpose()"
   ]
  },
  {
   "cell_type": "markdown",
   "id": "feab2f24",
   "metadata": {},
   "source": [
    "6) Utilize ambos classificadores estudados até o momento: KNN e SVM. Os hiperparâmetros devem ser\n",
<<<<<<< HEAD
    "selecionados usando o processo de validação cruzada, descrito a seguir.\n",
    "\n",
    "7) Realize o processo de validação cruzada duplo. No primeiro nível você deve usar validação cruzada em\n",
    "k-vias para avaliar o desempenho do seu classificador em particionamentos diferentes. Use a métrica\n",
    "de classificação que julgar adequada para este problema. No segundo nível você deve usar a validação\n",
    "cruzada para escolher a melhor combinação de hiperparâmetros para o classificador.\n",
    "\n",
    "8) Selecione o melhor modelo gerado usando análise estatística do desempenho obtido pelos classificadores\n",
    "durante a validação cruzada. Faça esta seleção de forma automática!\n",
    "\n",
    "9) Apresente os resultados da classificação com todos os modelos, apresentando as métricas de classificação\n",
    "por classe e também da classificação como um todo.\n",
    "\n",
    "10) Repita os passos acima para desenvolver classificadores cada vez mais sofisticados :)"
=======
    "selecionados usando o processo de validação cruzada, descrito a seguir."
>>>>>>> 885f45239cc21fcec3aabfa615ee2218f5a92c8d
   ]
  },
  {
   "cell_type": "markdown",
   "id": "dcda178f",
   "metadata": {},
   "source": [
    "Primeiramente, é implementado a validação cruzada em k-vias:"
   ]
  },
  {
   "cell_type": "code",
   "execution_count": 166,
   "id": "b9710d1f",
   "metadata": {},
   "outputs": [],
   "source": [
    "def selecionar_melhor_k(ks, X_treino, X_val, y_treino, y_val):\n",
    "    acuracias_val = []\n",
    "\n",
    "    for k in ks:\n",
    "        knn = KNeighborsClassifier(n_neighbors=k)\n",
    "        knn.fit(X_treino, y_treino)\n",
    "        pred = knn.predict(X_val)\n",
    "        acuracias_val.append(accuracy_score(y_val, pred))\n",
    "        \n",
    "    melhor_val = max(acuracias_val)\n",
    "    melhor_k = ks[np.argmax(acuracias_val)]        \n",
    "    knn = KNeighborsClassifier(n_neighbors=melhor_k)\n",
    "    knn.fit(np.vstack((X_treino, X_val)), [*y_treino, *y_val])\n",
    "    \n",
    "    return knn, melhor_k, melhor_val"
   ]
  },
  {
   "cell_type": "code",
   "execution_count": 172,
   "id": "b2fb717f",
   "metadata": {},
   "outputs": [
    {
     "name": "stdout",
     "output_type": "stream",
     "text": [
      "min: 0.685, max: 0.888, avg+-std: 0.802+-0.062\n"
     ]
    }
   ],
   "source": [
    "k1 = 10\n",
    "k2 = 10\n",
    "acuracias = []\n",
    "skf = StratifiedKFold(n_splits=k1, shuffle=True, random_state=1)\n",
    "\n",
    "for idx_treino, idx_teste in skf.split(X, y):\n",
    "    X_treino = X[idx_treino]\n",
    "    y_treino = y[idx_treino]\n",
    "    \n",
    "    X_teste = X[idx_teste]\n",
    "    y_teste = y[idx_teste]\n",
    "    \n",
    "    ss = StandardScaler()\n",
    "    ss.fit(X_treino)\n",
    "    X_treino = ss.transform(X_treino)\n",
    "    X_teste = ss.transform(X_teste)\n",
    "    \n",
    "    params = {'n_neighbors': range(1, 30, 2)}\n",
    "    knn = KNeighborsClassifier()\n",
    "    knn = GridSearchCV(knn, params, cv=StratifiedKFold(n_splits=k2))\n",
    "    knn.fit(X_treino, y_treino)\n",
    "    \n",
    "    acuracias.append(accuracy_score(y_teste, knn.predict(X_teste)))\n",
    "    \n",
    "print(\"min: %.3f, max: %.3f, avg+-std: %.3f+-%.3f\" % \n",
    "      (min(acuracias), max(acuracias), np.mean(acuracias), np.std(acuracias)))  "
   ]
  },
  {
   "cell_type": "markdown",
   "id": "389963d9",
   "metadata": {},
   "source": [
<<<<<<< HEAD
    "Agora, passando para o SVM:"
=======
    "7) Realize o processo de validação cruzada duplo. No primeiro nível você deve usar validação cruzada em\n",
    "k-vias para avaliar o desempenho do seu classificador em particionamentos diferentes. Use a métrica\n",
    "de classificação que julgar adequada para este problema. No segundo nível você deve usar a validação\n",
    "cruzada para escolher a melhor combinação de hiperparâmetros para o classificador.\n",
    "8) Selecione o melhor modelo gerado usando análise estatística do desempenho obtido pelos classificadores\n",
    "durante a validação cruzada. Faça esta seleção de forma automática!\n",
    "9) Apresente os resultados da classificação com todos os modelos, apresentando as métricas de classificação\n",
    "por classe e também da classificação como um todo.\n",
    "10) Repita os passos acima para desenvolver classificadores cada vez mais sofisticados :)"
>>>>>>> 885f45239cc21fcec3aabfa615ee2218f5a92c8d
   ]
  },
  {
   "cell_type": "code",
   "execution_count": null,
   "id": "a69044da",
   "metadata": {},
   "outputs": [],
   "source": []
  }
 ],
 "metadata": {
  "kernelspec": {
   "display_name": "Python 3",
   "language": "python",
   "name": "python3"
  },
  "language_info": {
   "codemirror_mode": {
    "name": "ipython",
    "version": 3
   },
   "file_extension": ".py",
   "mimetype": "text/x-python",
   "name": "python",
   "nbconvert_exporter": "python",
   "pygments_lexer": "ipython3",
   "version": "3.8.8"
  }
 },
 "nbformat": 4,
 "nbformat_minor": 5
}
