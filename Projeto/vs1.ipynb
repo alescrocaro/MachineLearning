{
 "cells": [
  {
   "cell_type": "code",
   "execution_count": 300,
   "id": "fc583ad0",
   "metadata": {},
   "outputs": [],
   "source": [
    "import pandas as pd\n",
    "import numpy as np\n",
    "import math\n",
    "import matplotlib.pyplot as plt\n",
    "import seaborn as sns\n",
    "from sklearn.decomposition import PCA\n",
    "from sklearn.preprocessing import StandardScaler"
   ]
  },
  {
   "cell_type": "code",
   "execution_count": 301,
   "id": "12f56f12",
   "metadata": {
    "scrolled": false
   },
   "outputs": [
    {
     "data": {
      "text/html": [
       "<div>\n",
       "<style scoped>\n",
       "    .dataframe tbody tr th:only-of-type {\n",
       "        vertical-align: middle;\n",
       "    }\n",
       "\n",
       "    .dataframe tbody tr th {\n",
       "        vertical-align: top;\n",
       "    }\n",
       "\n",
       "    .dataframe thead th {\n",
       "        text-align: right;\n",
       "    }\n",
       "</style>\n",
       "<table border=\"1\" class=\"dataframe\">\n",
       "  <thead>\n",
       "    <tr style=\"text-align: right;\">\n",
       "      <th></th>\n",
       "      <th>PassengerId</th>\n",
       "      <th>Survived</th>\n",
       "      <th>Pclass</th>\n",
       "      <th>Name</th>\n",
       "      <th>Sex</th>\n",
       "      <th>Age</th>\n",
       "      <th>SibSp</th>\n",
       "      <th>Parch</th>\n",
       "      <th>Ticket</th>\n",
       "      <th>Fare</th>\n",
       "      <th>Cabin</th>\n",
       "      <th>Embarked</th>\n",
       "    </tr>\n",
       "  </thead>\n",
       "  <tbody>\n",
       "    <tr>\n",
       "      <th>0</th>\n",
       "      <td>1</td>\n",
       "      <td>0</td>\n",
       "      <td>3</td>\n",
       "      <td>Braund, Mr. Owen Harris</td>\n",
       "      <td>male</td>\n",
       "      <td>22.0</td>\n",
       "      <td>1</td>\n",
       "      <td>0</td>\n",
       "      <td>A/5 21171</td>\n",
       "      <td>7.2500</td>\n",
       "      <td>NaN</td>\n",
       "      <td>S</td>\n",
       "    </tr>\n",
       "    <tr>\n",
       "      <th>1</th>\n",
       "      <td>2</td>\n",
       "      <td>1</td>\n",
       "      <td>1</td>\n",
       "      <td>Cumings, Mrs. John Bradley (Florence Briggs Th...</td>\n",
       "      <td>female</td>\n",
       "      <td>38.0</td>\n",
       "      <td>1</td>\n",
       "      <td>0</td>\n",
       "      <td>PC 17599</td>\n",
       "      <td>71.2833</td>\n",
       "      <td>C85</td>\n",
       "      <td>C</td>\n",
       "    </tr>\n",
       "    <tr>\n",
       "      <th>2</th>\n",
       "      <td>3</td>\n",
       "      <td>1</td>\n",
       "      <td>3</td>\n",
       "      <td>Heikkinen, Miss. Laina</td>\n",
       "      <td>female</td>\n",
       "      <td>26.0</td>\n",
       "      <td>0</td>\n",
       "      <td>0</td>\n",
       "      <td>STON/O2. 3101282</td>\n",
       "      <td>7.9250</td>\n",
       "      <td>NaN</td>\n",
       "      <td>S</td>\n",
       "    </tr>\n",
       "    <tr>\n",
       "      <th>3</th>\n",
       "      <td>4</td>\n",
       "      <td>1</td>\n",
       "      <td>1</td>\n",
       "      <td>Futrelle, Mrs. Jacques Heath (Lily May Peel)</td>\n",
       "      <td>female</td>\n",
       "      <td>35.0</td>\n",
       "      <td>1</td>\n",
       "      <td>0</td>\n",
       "      <td>113803</td>\n",
       "      <td>53.1000</td>\n",
       "      <td>C123</td>\n",
       "      <td>S</td>\n",
       "    </tr>\n",
       "    <tr>\n",
       "      <th>4</th>\n",
       "      <td>5</td>\n",
       "      <td>0</td>\n",
       "      <td>3</td>\n",
       "      <td>Allen, Mr. William Henry</td>\n",
       "      <td>male</td>\n",
       "      <td>35.0</td>\n",
       "      <td>0</td>\n",
       "      <td>0</td>\n",
       "      <td>373450</td>\n",
       "      <td>8.0500</td>\n",
       "      <td>NaN</td>\n",
       "      <td>S</td>\n",
       "    </tr>\n",
       "    <tr>\n",
       "      <th>...</th>\n",
       "      <td>...</td>\n",
       "      <td>...</td>\n",
       "      <td>...</td>\n",
       "      <td>...</td>\n",
       "      <td>...</td>\n",
       "      <td>...</td>\n",
       "      <td>...</td>\n",
       "      <td>...</td>\n",
       "      <td>...</td>\n",
       "      <td>...</td>\n",
       "      <td>...</td>\n",
       "      <td>...</td>\n",
       "    </tr>\n",
       "    <tr>\n",
       "      <th>886</th>\n",
       "      <td>887</td>\n",
       "      <td>0</td>\n",
       "      <td>2</td>\n",
       "      <td>Montvila, Rev. Juozas</td>\n",
       "      <td>male</td>\n",
       "      <td>27.0</td>\n",
       "      <td>0</td>\n",
       "      <td>0</td>\n",
       "      <td>211536</td>\n",
       "      <td>13.0000</td>\n",
       "      <td>NaN</td>\n",
       "      <td>S</td>\n",
       "    </tr>\n",
       "    <tr>\n",
       "      <th>887</th>\n",
       "      <td>888</td>\n",
       "      <td>1</td>\n",
       "      <td>1</td>\n",
       "      <td>Graham, Miss. Margaret Edith</td>\n",
       "      <td>female</td>\n",
       "      <td>19.0</td>\n",
       "      <td>0</td>\n",
       "      <td>0</td>\n",
       "      <td>112053</td>\n",
       "      <td>30.0000</td>\n",
       "      <td>B42</td>\n",
       "      <td>S</td>\n",
       "    </tr>\n",
       "    <tr>\n",
       "      <th>888</th>\n",
       "      <td>889</td>\n",
       "      <td>0</td>\n",
       "      <td>3</td>\n",
       "      <td>Johnston, Miss. Catherine Helen \"Carrie\"</td>\n",
       "      <td>female</td>\n",
       "      <td>NaN</td>\n",
       "      <td>1</td>\n",
       "      <td>2</td>\n",
       "      <td>W./C. 6607</td>\n",
       "      <td>23.4500</td>\n",
       "      <td>NaN</td>\n",
       "      <td>S</td>\n",
       "    </tr>\n",
       "    <tr>\n",
       "      <th>889</th>\n",
       "      <td>890</td>\n",
       "      <td>1</td>\n",
       "      <td>1</td>\n",
       "      <td>Behr, Mr. Karl Howell</td>\n",
       "      <td>male</td>\n",
       "      <td>26.0</td>\n",
       "      <td>0</td>\n",
       "      <td>0</td>\n",
       "      <td>111369</td>\n",
       "      <td>30.0000</td>\n",
       "      <td>C148</td>\n",
       "      <td>C</td>\n",
       "    </tr>\n",
       "    <tr>\n",
       "      <th>890</th>\n",
       "      <td>891</td>\n",
       "      <td>0</td>\n",
       "      <td>3</td>\n",
       "      <td>Dooley, Mr. Patrick</td>\n",
       "      <td>male</td>\n",
       "      <td>32.0</td>\n",
       "      <td>0</td>\n",
       "      <td>0</td>\n",
       "      <td>370376</td>\n",
       "      <td>7.7500</td>\n",
       "      <td>NaN</td>\n",
       "      <td>Q</td>\n",
       "    </tr>\n",
       "  </tbody>\n",
       "</table>\n",
       "<p>891 rows × 12 columns</p>\n",
       "</div>"
      ],
      "text/plain": [
       "     PassengerId  Survived  Pclass  \\\n",
       "0              1         0       3   \n",
       "1              2         1       1   \n",
       "2              3         1       3   \n",
       "3              4         1       1   \n",
       "4              5         0       3   \n",
       "..           ...       ...     ...   \n",
       "886          887         0       2   \n",
       "887          888         1       1   \n",
       "888          889         0       3   \n",
       "889          890         1       1   \n",
       "890          891         0       3   \n",
       "\n",
       "                                                  Name     Sex   Age  SibSp  \\\n",
       "0                              Braund, Mr. Owen Harris    male  22.0      1   \n",
       "1    Cumings, Mrs. John Bradley (Florence Briggs Th...  female  38.0      1   \n",
       "2                               Heikkinen, Miss. Laina  female  26.0      0   \n",
       "3         Futrelle, Mrs. Jacques Heath (Lily May Peel)  female  35.0      1   \n",
       "4                             Allen, Mr. William Henry    male  35.0      0   \n",
       "..                                                 ...     ...   ...    ...   \n",
       "886                              Montvila, Rev. Juozas    male  27.0      0   \n",
       "887                       Graham, Miss. Margaret Edith  female  19.0      0   \n",
       "888           Johnston, Miss. Catherine Helen \"Carrie\"  female   NaN      1   \n",
       "889                              Behr, Mr. Karl Howell    male  26.0      0   \n",
       "890                                Dooley, Mr. Patrick    male  32.0      0   \n",
       "\n",
       "     Parch            Ticket     Fare Cabin Embarked  \n",
       "0        0         A/5 21171   7.2500   NaN        S  \n",
       "1        0          PC 17599  71.2833   C85        C  \n",
       "2        0  STON/O2. 3101282   7.9250   NaN        S  \n",
       "3        0            113803  53.1000  C123        S  \n",
       "4        0            373450   8.0500   NaN        S  \n",
       "..     ...               ...      ...   ...      ...  \n",
       "886      0            211536  13.0000   NaN        S  \n",
       "887      0            112053  30.0000   B42        S  \n",
       "888      2        W./C. 6607  23.4500   NaN        S  \n",
       "889      0            111369  30.0000  C148        C  \n",
       "890      0            370376   7.7500   NaN        Q  \n",
       "\n",
       "[891 rows x 12 columns]"
      ]
     },
     "execution_count": 301,
     "metadata": {},
     "output_type": "execute_result"
    }
   ],
   "source": [
    "df_train = pd.read_csv(\"train.csv\")\n",
    "df_train"
   ]
  },
  {
   "cell_type": "markdown",
   "id": "b0efd05f",
   "metadata": {},
   "source": [
    "1) Limpe a base de dados. Nesta etapa você deve decidir o que fazer com as instâncias que possuem\n",
    "dados faltantes: preencher os dados faltantes de acordo com alguma regra? Descartar as instâncias que\n",
    "possuem dados faltantes?"
   ]
  },
  {
   "cell_type": "markdown",
   "id": "e8715574",
   "metadata": {},
   "source": [
    "Primeiramente, descobri quais colunas possuem dados faltantes."
   ]
  },
  {
   "cell_type": "code",
   "execution_count": 302,
   "id": "815c2781",
   "metadata": {},
   "outputs": [
    {
     "data": {
      "text/plain": [
       "PassengerId      0\n",
       "Survived         0\n",
       "Pclass           0\n",
       "Name             0\n",
       "Sex              0\n",
       "Age            177\n",
       "SibSp            0\n",
       "Parch            0\n",
       "Ticket           0\n",
       "Fare             0\n",
       "Cabin          687\n",
       "Embarked         2\n",
       "dtype: int64"
      ]
     },
     "execution_count": 302,
     "metadata": {},
     "output_type": "execute_result"
    }
   ],
   "source": [
    "df_train.isnull().sum()"
   ]
  },
  {
   "cell_type": "markdown",
   "id": "8742cea3",
   "metadata": {},
   "source": [
    "Como observado acima, as colunas Age, Cabin e Embarked são as únicas. Não podemos deletar nenhuma linha do data frame, pois todas (pessoas) são fundamentais para o estudo, então vamo analisar o que pode ser feito com cada coluna:\n",
    "\n",
    "Age: 177 pessoas sem idade identificada, vou optar por preenchê-los com a idade média."
   ]
  },
  {
   "cell_type": "code",
   "execution_count": 303,
   "id": "c9fe69a5",
   "metadata": {},
   "outputs": [
    {
     "data": {
      "text/plain": [
       "PassengerId      0\n",
       "Survived         0\n",
       "Pclass           0\n",
       "Name             0\n",
       "Sex              0\n",
       "Age              0\n",
       "SibSp            0\n",
       "Parch            0\n",
       "Ticket           0\n",
       "Fare             0\n",
       "Cabin          687\n",
       "Embarked         2\n",
       "dtype: int64"
      ]
     },
     "execution_count": 303,
     "metadata": {},
     "output_type": "execute_result"
    }
   ],
   "source": [
    "# Primeiro, devo descobrir a idade média\n",
    "average = math.floor(df_train['Age'].mean())\n",
    "\n",
    "# Agora vou substituir os NaN da coluna Age, pela média descoberta\n",
    "df_train.update(df_train['Age'].fillna(average))\n",
    "df_train.isnull().sum()"
   ]
  },
  {
   "cell_type": "markdown",
   "id": "7bde7769",
   "metadata": {},
   "source": [
    "Passando para Cabin: 687 pessoas tiveram os dados de sua cabine perdidos, como não é possível advinhar em qual cabine cada pessoa estava, vou apenas atualizar os valores NaN para 'NI'* no data frame. Observação: não utilizarei essa coluna posteriormente para treinar a máquina, apenas mudei o valor para fins visuais, poderia ter excluido a coluna, mas caso alguém queira verificar a cabine de uma pessoa específica, será possível.\n",
    "\n",
    "*NI refere-se a Not Identified."
   ]
  },
  {
   "cell_type": "code",
   "execution_count": 304,
   "id": "a0177f09",
   "metadata": {
    "scrolled": true
   },
   "outputs": [
    {
     "data": {
      "text/plain": [
       "PassengerId    0\n",
       "Survived       0\n",
       "Pclass         0\n",
       "Name           0\n",
       "Sex            0\n",
       "Age            0\n",
       "SibSp          0\n",
       "Parch          0\n",
       "Ticket         0\n",
       "Fare           0\n",
       "Cabin          0\n",
       "Embarked       2\n",
       "dtype: int64"
      ]
     },
     "execution_count": 304,
     "metadata": {},
     "output_type": "execute_result"
    }
   ],
   "source": [
    "df_train.update(df_train['Cabin'].fillna('NI'))\n",
    "df_train.isnull().sum()"
   ]
  },
  {
   "cell_type": "markdown",
   "id": "0657b611",
   "metadata": {},
   "source": [
    "Chegando na última coluna, encontramos apenas duas pessoas com seus dados de cidade de embarque perdidos. Para tal, decidi verificar a quantidade de embarque em cada cidade, assim consigo visualizar a qual cidade a pessoa pode ser atribuida."
   ]
  },
  {
   "cell_type": "code",
   "execution_count": 305,
   "id": "683f22c4",
   "metadata": {},
   "outputs": [
    {
     "data": {
      "text/plain": [
       "Embarked\n",
       "C    168\n",
       "Q     77\n",
       "S    644\n",
       "Name: PassengerId, dtype: int64"
      ]
     },
     "execution_count": 305,
     "metadata": {},
     "output_type": "execute_result"
    }
   ],
   "source": [
    "df_train.groupby(\"Embarked\").count()['PassengerId']"
   ]
  },
  {
   "cell_type": "markdown",
   "id": "33536bec",
   "metadata": {},
   "source": [
    "Utilizando o PassengerId - o qual presumi que seja único - percebi a discrepante diferença na quantidade de pessoas que saem de southampton, S. Portanto atribuí S para ambas pessoas com cidade de embarque faltante."
   ]
  },
  {
   "cell_type": "code",
   "execution_count": 306,
   "id": "32edbf95",
   "metadata": {},
   "outputs": [
    {
     "data": {
      "text/plain": [
       "PassengerId    0\n",
       "Survived       0\n",
       "Pclass         0\n",
       "Name           0\n",
       "Sex            0\n",
       "Age            0\n",
       "SibSp          0\n",
       "Parch          0\n",
       "Ticket         0\n",
       "Fare           0\n",
       "Cabin          0\n",
       "Embarked       0\n",
       "dtype: int64"
      ]
     },
     "execution_count": 306,
     "metadata": {},
     "output_type": "execute_result"
    }
   ],
   "source": [
    "df_train.update(df_train['Embarked'].fillna('S'))\n",
    "df_train.isnull().sum()"
   ]
  },
  {
   "cell_type": "markdown",
   "id": "0db166ac",
   "metadata": {},
   "source": [
    "2) Faça a conversão dos atributos categóricos em atributos numéricos. Estas conversões devem ser\n",
    "realizadas considerando se o atributo categórico é ordinal ou não."
   ]
  },
  {
   "cell_type": "code",
   "execution_count": 307,
   "id": "fae2fa6f",
   "metadata": {},
   "outputs": [
    {
     "name": "stdout",
     "output_type": "stream",
     "text": [
      "<class 'pandas.core.frame.DataFrame'>\n",
      "RangeIndex: 891 entries, 0 to 890\n",
      "Data columns (total 12 columns):\n",
      " #   Column       Non-Null Count  Dtype  \n",
      "---  ------       --------------  -----  \n",
      " 0   PassengerId  891 non-null    int64  \n",
      " 1   Survived     891 non-null    int64  \n",
      " 2   Pclass       891 non-null    int64  \n",
      " 3   Name         891 non-null    object \n",
      " 4   Sex          891 non-null    object \n",
      " 5   Age          891 non-null    float64\n",
      " 6   SibSp        891 non-null    int64  \n",
      " 7   Parch        891 non-null    int64  \n",
      " 8   Ticket       891 non-null    object \n",
      " 9   Fare         891 non-null    float64\n",
      " 10  Cabin        891 non-null    object \n",
      " 11  Embarked     891 non-null    object \n",
      "dtypes: float64(2), int64(5), object(5)\n",
      "memory usage: 83.7+ KB\n"
     ]
    }
   ],
   "source": [
    "df_train.info()"
   ]
  },
  {
   "cell_type": "markdown",
   "id": "df884239",
   "metadata": {},
   "source": [
    "De acordo com a especificação do projeto, os atributos categóricos são Sex e Embarked. Começando em Sex, substituirei masculino para 0 e feminino para 1. E então o Embarked será substituido de C para 0, Q para 1 e S para 2."
   ]
  },
  {
   "cell_type": "code",
   "execution_count": 308,
   "id": "2738ea9b",
   "metadata": {},
   "outputs": [
    {
     "name": "stdout",
     "output_type": "stream",
     "text": [
      "<class 'pandas.core.frame.DataFrame'>\n",
      "RangeIndex: 891 entries, 0 to 890\n",
      "Data columns (total 12 columns):\n",
      " #   Column       Non-Null Count  Dtype  \n",
      "---  ------       --------------  -----  \n",
      " 0   PassengerId  891 non-null    int64  \n",
      " 1   Survived     891 non-null    int64  \n",
      " 2   Pclass       891 non-null    int64  \n",
      " 3   Name         891 non-null    object \n",
      " 4   Sex          891 non-null    int64  \n",
      " 5   Age          891 non-null    float64\n",
      " 6   SibSp        891 non-null    int64  \n",
      " 7   Parch        891 non-null    int64  \n",
      " 8   Ticket       891 non-null    object \n",
      " 9   Fare         891 non-null    float64\n",
      " 10  Cabin        891 non-null    object \n",
      " 11  Embarked     891 non-null    int64  \n",
      "dtypes: float64(2), int64(7), object(3)\n",
      "memory usage: 83.7+ KB\n"
     ]
    }
   ],
   "source": [
    "df_train['Sex'].replace(\"male\", 0, inplace=True)\n",
    "df_train['Sex'].replace(\"female\", 1, inplace=True)\n",
    "df_train['Embarked'].replace(\"C\", 0, inplace=True)\n",
    "df_train['Embarked'].replace(\"Q\", 1, inplace=True)\n",
    "df_train['Embarked'].replace(\"S\", 2, inplace=True)\n",
    "df_train.info()"
   ]
  },
  {
   "cell_type": "markdown",
   "id": "3a85f731",
   "metadata": {},
   "source": [
    "Como observado acima, os atributos se tornaram do tipo int."
   ]
  },
  {
   "cell_type": "markdown",
   "id": "7122ecc8",
   "metadata": {},
   "source": [
    "3) Explore a base de dados. Conheça a distribuição dos atributos de entrada em relação aos atributos\n",
    "de entrada. A partir da exploração é possível ter uma idéia de quais atributos podem conter mais\n",
    "informação útil para realizar a classificação."
   ]
  },
  {
   "cell_type": "markdown",
   "id": "01935b6d",
   "metadata": {},
   "source": [
    "Abaixo, vou fazer vários gráficos para verificar quais dados são melhores para verificar as probabilidades de sobrevivência de acordo com algum atributo. Utilizarei gráficos baseados em proporção, não em quantidade, assim tenho melhores dados para análise. Um adendo: não utilizarei o atributo idade por ter muitos campos vazios no DF (os quais preenchi com a média das idades), porque poderia utilizar muitos dados falsos, prejudicando, por exemplo, a análise de crianças sobreviventes."
   ]
  },
  {
   "cell_type": "markdown",
   "id": "d1a767da",
   "metadata": {},
   "source": [
    "Primeiramente, verificando o histograma de sobreviventes por sexo, observa-se que há uma proporção de sobrevivência muito maior de mulheres."
   ]
  },
  {
   "cell_type": "code",
   "execution_count": 309,
   "id": "12a41561",
   "metadata": {},
   "outputs": [
    {
     "data": {
      "image/png": "[encoded data removed]",
      "text/plain": [
       "<Figure size 432x288 with 1 Axes>"
      ]
     },
     "metadata": {
      "needs_background": "light"
     },
     "output_type": "display_data"
    }
   ],
   "source": [
    "survivors_class = df_train.copy()\n",
    "survivors_class['Survived'] = df_train['Survived'] == 1\n",
    "\n",
    "sns.barplot(data=survivors_class, y='Survived', x='Sex')\n",
    "plt.title('Ratio of people who survived according to sex')\n",
    "plt.show()\n",
    "\n",
    "####    0 = homem      1 = mulher    ####"
   ]
  },
  {
   "cell_type": "markdown",
   "id": "9962bce4",
   "metadata": {},
   "source": [
    "Passando agora para as classes, pode se observar que a proporção de sobrevivência de pessoas mais ricas, foi consideravelmente maior."
   ]
  },
  {
   "cell_type": "code",
   "execution_count": 310,
   "id": "fc75c206",
   "metadata": {},
   "outputs": [
    {
     "data": {
      "image/png": "[encoded data removed]",
      "text/plain": [
       "<Figure size 432x288 with 1 Axes>"
      ]
     },
     "metadata": {
      "needs_background": "light"
     },
     "output_type": "display_data"
    }
   ],
   "source": [
    "survivors_class = df_train.copy()\n",
    "survivors_class['Survived'] = df_train['Survived'] == 1\n",
    "\n",
    "sns.barplot(data=survivors_class, y='Survived', x='Pclass')\n",
    "plt.title('Ratio of people who survived according to class')\n",
    "plt.show()\n",
    "\n",
    "####    0 = primeira classe      1 = segunda classe      2 = terceira classe    ####"
   ]
  },
  {
   "cell_type": "markdown",
   "id": "2784b697",
   "metadata": {},
   "source": [
    "Um outro atributo que encontrei com diferenças consideráveis foi a cidade de embarque."
   ]
  },
  {
   "cell_type": "code",
   "execution_count": 311,
   "id": "56e9f6ee",
   "metadata": {
    "scrolled": true
   },
   "outputs": [
    {
     "data": {
      "image/png": "[encoded data removed]",
      "text/plain": [
       "<Figure size 432x288 with 1 Axes>"
      ]
     },
     "metadata": {
      "needs_background": "light"
     },
     "output_type": "display_data"
    }
   ],
   "source": [
    "survivors_embarked = df_train.copy()\n",
    "survivors_embarked['Embarked'] = df_train['Survived'] == 1\n",
    "sns.barplot(data=survivors_class, y='Survived', x='Embarked')\n",
    "plt.title('Ratio of who survived according to where embarked')\n",
    "plt.show()\n",
    "\n",
    "####    0 = C (Cherbourg)      1 = Q (Queenstown)      2 = S (Southampton)   ####"
   ]
  },
  {
   "cell_type": "markdown",
   "id": "633110ff",
   "metadata": {},
   "source": [
    "4) Normalize os dados de acordo com o que estudamos na aula."
   ]
  },
  {
   "cell_type": "markdown",
   "id": "6cd0e6a3",
   "metadata": {},
   "source": [
    "Primeiro atribuí os atributos escolhidos ao df, assim já consegui obter apenas os cados que eu queria normalizados."
   ]
  },
  {
   "cell_type": "code",
   "execution_count": 329,
   "id": "ee93e874",
   "metadata": {},
   "outputs": [],
   "source": [
    "df = df_train.copy()\n",
    "\n",
    "\n",
    "atributes = ['Pclass', 'Sex', 'Embarked']\n",
    "X = df[atributes]\n",
    "y = df['Survived']\n",
    "\n",
    "X = StandardScaler().fit_transform(X)\n"
   ]
  },
  {
   "cell_type": "markdown",
   "id": "48d2ad7c",
   "metadata": {},
   "source": [
    "5) Visualize o espaço de características usando a técnica PCA. Isto dará uma idéia da separabilidade das\n",
    "classes a partir dos atributos que você escolheu."
   ]
  },
  {
   "cell_type": "markdown",
   "id": "1ba48715",
   "metadata": {},
   "source": [
    "Ao fazer o PCA, pode-se observar que os atributos foram bem escolhidos, já que ficaram claramente separados"
   ]
  },
  {
   "cell_type": "code",
   "execution_count": 331,
   "id": "8eb1c349",
   "metadata": {},
   "outputs": [
    {
     "data": {
      "text/plain": [
       "<AxesSubplot:xlabel='PC 0', ylabel='PC 1'>"
      ]
     },
     "execution_count": 331,
     "metadata": {},
     "output_type": "execute_result"
    },
    {
     "data": {
      "image/png": "[encoded data removed]",
      "text/plain": [
       "<Figure size 432x288 with 1 Axes>"
      ]
     },
     "metadata": {
      "needs_background": "light"
     },
     "output_type": "display_data"
    }
   ],
   "source": [
    "pca = PCA(n_components=2)\n",
    "pca.fit(X)\n",
    "\n",
    "X_pca = pca.transform(X)  # Projetar os 3 atributos nos 2 componentes principais\n",
    "X_pca_df = pd.DataFrame(X_pca, columns=['PC 0', 'PC 1']) # Aqui, nota-se que a dimensionalidade dos dados projetados agora tem apenas 2 atributos!\n",
    "\n",
    "# Plota os dados projetados nos componentes principais. Colorir os pontos de acordo com o Survived\n",
    "sns.set_palette('seismic')\n",
    "sns.scatterplot(data=X_pca_df, x='PC 0', y='PC 1', hue=y, palette='Set1')\n",
    "\n",
    "# #calcular a média do valor dos atributos para cada classe.\n",
    "# df.groupby('Survived').mean().transpose()"
   ]
  },
  {
   "cell_type": "markdown",
   "id": "feab2f24",
   "metadata": {},
   "source": [
    "6) Utilize ambos classificadores estudados até o momento: KNN e SVM. Os hiperparâmetros devem ser\n",
    "selecionados usando o processo de validação cruzada, descrito a seguir."
   ]
  },
  {
   "cell_type": "code",
   "execution_count": null,
   "id": "50320609",
   "metadata": {},
   "outputs": [],
   "source": []
  },
  {
   "cell_type": "code",
   "execution_count": null,
   "id": "6ee43060",
   "metadata": {},
   "outputs": [],
   "source": []
  },
  {
   "cell_type": "code",
   "execution_count": null,
   "id": "ef83c891",
   "metadata": {},
   "outputs": [],
   "source": []
  },
  {
   "cell_type": "code",
   "execution_count": null,
   "id": "3df37145",
   "metadata": {},
   "outputs": [],
   "source": []
  },
  {
   "cell_type": "code",
   "execution_count": null,
   "id": "bf78af92",
   "metadata": {},
   "outputs": [],
   "source": []
  },
  {
   "cell_type": "markdown",
   "id": "53251298",
   "metadata": {},
   "source": [
    "7) Realize o processo de validação cruzada duplo. No primeiro nível você deve usar validação cruzada em\n",
    "k-vias para avaliar o desempenho do seu classificador em particionamentos diferentes. Use a métrica\n",
    "de classificação que julgar adequada para este problema. No segundo nível você deve usar a validação\n",
    "cruzada para escolher a melhor combinação de hiperparâmetros para o classificador.\n",
    "8) Selecione o melhor modelo gerado usando análise estatística do desempenho obtido pelos classificadores\n",
    "durante a validação cruzada. Faça esta seleção de forma automática!\n",
    "9) Apresente os resultados da classificação com todos os modelos, apresentando as métricas de classificação\n",
    "por classe e também da classificação como um todo.\n",
    "10) Repita os passos acima para desenvolver classificadores cada vez mais sofisticados :)"
   ]
  },
  {
   "cell_type": "code",
   "execution_count": null,
   "id": "a2514f19",
   "metadata": {},
   "outputs": [],
   "source": []
  }
 ],
 "metadata": {
  "kernelspec": {
   "display_name": "Python 3",
   "language": "python",
   "name": "python3"
  },
  "language_info": {
   "codemirror_mode": {
    "name": "ipython",
    "version": 3
   },
   "file_extension": ".py",
   "mimetype": "text/x-python",
   "name": "python",
   "nbconvert_exporter": "python",
   "pygments_lexer": "ipython3",
   "version": "3.8.8"
  }
 },
 "nbformat": 4,
 "nbformat_minor": 5
}
